{
 "cells": [
  {
   "cell_type": "code",
   "execution_count": 1,
   "id": "2071c9c4",
   "metadata": {},
   "outputs": [],
   "source": [
    "import os\n",
    "import anndata as ad\n",
    "import pandas as pd\n",
    "import numpy as np\n",
    "import matplotlib.pyplot as plt\n",
    "import seaborn as sns"
   ]
  },
  {
   "cell_type": "code",
   "execution_count": 19,
   "id": "174b76b2",
   "metadata": {},
   "outputs": [],
   "source": [
    "def create_density_plots(dist_data, out_file, marker,title_suffix=\"\"):\n",
    "    sns.set_theme(style=\"whitegrid\")\n",
    "    pts_sorted = sorted(dist_data.keys())\n",
    "\n",
    "    num_plots = len(pts_sorted)\n",
    "    cols = min(3, num_plots)\n",
    "    rows = int(np.ceil(num_plots / cols))\n",
    "\n",
    "    fig_width = max(5 * cols, 8)\n",
    "    fig_height = 5 * rows\n",
    "    fig, axes = plt.subplots(\n",
    "        rows, cols, figsize=(fig_width, fig_height), constrained_layout=True\n",
    "    )\n",
    "\n",
    "    if num_plots == 1:\n",
    "        axes = np.array([axes])\n",
    "\n",
    "    cat_labels = [\"Unstim arcsinh\", \"Unstim log1p\",\"Stim arcsinh\", \"Stim log1p\"]\n",
    "    cat_colors = [\"blue\", \"red\", \"green\", \"black\"]\n",
    "\n",
    "    for i, (pt, ax) in enumerate(zip(pts_sorted, axes.flatten())):\n",
    "        for label, color in zip(cat_labels, cat_colors):\n",
    "            arr = dist_data[pt][label]\n",
    "            if arr.size > 0:\n",
    "                sns.kdeplot(\n",
    "                    arr,\n",
    "                    ax=ax,\n",
    "                    label=f\"{label} (n={arr.size})\",\n",
    "                    color=color,\n",
    "                    fill=False,  # set tot True to fill the area under the curve\n",
    "                    alpha=0.3,\n",
    "                )\n",
    "\n",
    "        ax.set_title(f\"Log1p vs arcsinh transform, for surge, LPS, cMCs,{marker}:\", fontsize=14)\n",
    "        ax.set_xlabel(\"Value\", fontsize=12)\n",
    "        ax.set_ylabel(\"Density\", fontsize=12)\n",
    "        ax.legend(fontsize=10)\n",
    "        ax.grid(True)\n",
    "    for j in range(i + 1, len(axes.flatten())):\n",
    "        fig.delaxes(axes.flatten()[j])\n",
    "\n",
    "    plt.savefig(out_file, dpi=200, bbox_inches=\"tight\")\n",
    "    plt.close()\n",
    "\n",
    "\n",
    "def plot_result(arcsinh_path, log_path, marker, outdir_path,doms_stim):\n",
    "    target = ad.read(arcsinh_path)\n",
    "    target1 = target[:, marker].copy()\n",
    "    unstim_arcsinh = pd.Series(\n",
    "        target1[target1.obs[\"drug\"] == 'Unstim'].X.flatten(), name=\"Unstim arcsinh\"\n",
    "    )\n",
    "    stim_arcsinh = pd.Series(\n",
    "        target1[target1.obs[\"drug\"] == doms_stim].X.flatten(), name=\"Stim arcsinh\"\n",
    "    )\n",
    "    dataf = ad.read(log_path)\n",
    "    target2 = dataf[:, marker].copy()\n",
    "    unstim_log1p=pd.Series(\n",
    "        target2[target2.obs[\"drug\"] == \"Unstim\"].X.flatten(), name=\"Unstim log1p\"\n",
    "    )\n",
    "    stim_log1p=pd.Series(\n",
    "        target2[target2.obs[\"drug\"] == doms_stim].X.flatten(), name=\"Stim log1p\"\n",
    "    )\n",
    "    dist_data = {\n",
    "        \"Patient_1\": {\n",
    "            \"Unstim arcsinh\": unstim_arcsinh.values,\n",
    "            \"Stim arcsinh\": stim_arcsinh.values,\n",
    "            \"Stim log1p\": stim_log1p.values,\n",
    "            'Unstim log1p': unstim_log1p.values\n",
    "        }\n",
    "    }\n",
    "\n",
    "    create_density_plots(dist_data, outdir_path, marker,title_suffix=\"\")\n",
    "    return"
   ]
  },
  {
   "cell_type": "code",
   "execution_count": 20,
   "id": "5778209a",
   "metadata": {},
   "outputs": [
    {
     "name": "stderr",
     "output_type": "stream",
     "text": [
      "Observation names are not unique. To make them unique, call `.obs_names_make_unique`.\n",
      "Observation names are not unique. To make them unique, call `.obs_names_make_unique`.\n",
      "Observation names are not unique. To make them unique, call `.obs_names_make_unique`.\n",
      "Observation names are not unique. To make them unique, call `.obs_names_make_unique`.\n",
      "Observation names are not unique. To make them unique, call `.obs_names_make_unique`.\n",
      "Observation names are not unique. To make them unique, call `.obs_names_make_unique`.\n"
     ]
    },
    {
     "name": "stdout",
     "output_type": "stream",
     "text": [
      "Plot 159Tb_pMAPKAPK2 for Classical Monocytes (CD14+CD16-) and LPS\n"
     ]
    },
    {
     "name": "stderr",
     "output_type": "stream",
     "text": [
      "Observation names are not unique. To make them unique, call `.obs_names_make_unique`.\n",
      "Observation names are not unique. To make them unique, call `.obs_names_make_unique`.\n",
      "Observation names are not unique. To make them unique, call `.obs_names_make_unique`.\n",
      "Observation names are not unique. To make them unique, call `.obs_names_make_unique`.\n"
     ]
    },
    {
     "name": "stdout",
     "output_type": "stream",
     "text": [
      "Plot 151Eu_pp38 for Classical Monocytes (CD14+CD16-) and LPS\n"
     ]
    },
    {
     "name": "stderr",
     "output_type": "stream",
     "text": [
      "Observation names are not unique. To make them unique, call `.obs_names_make_unique`.\n",
      "Observation names are not unique. To make them unique, call `.obs_names_make_unique`.\n"
     ]
    },
    {
     "name": "stdout",
     "output_type": "stream",
     "text": [
      "Plot 155Gd_pS6 for Classical Monocytes (CD14+CD16-) and LPS\n"
     ]
    }
   ],
   "source": [
    "marker_list=['159Tb_MAPKAPK2', '151Eu_p38','155Gd_S6']\n",
    "perio_stim_list_=['TNFa','P._gingivalis']\n",
    "marker_list=['159Tb_pMAPKAPK2', '151Eu_pp38','155Gd_pS6']\n",
    "cell_type='Classical Monocytes (CD14+CD16-)'\n",
    "stim='P._gingivalis'\n",
    "if [stim, cell_type] not in [['P._gingivalis', 'Non-classical_Monocytes_(CD14-CD16+)'],['P._gingivalis', 'NK_Cells_(CD7+)'],['TNFa', 'Granulocytes_(CD45-CD66+)']]:\n",
    "    for marker in marker_list:\n",
    "        if stim=='P._gingivalis':\n",
    "            doms_stim='LPS'\n",
    "        else:\n",
    "            doms_stim=stim\n",
    "    \n",
    "        arcsinh_path = f\"surge_just_concat/surge_data_LPS_Classical Monocytes (CD14+CD16-).h5ad\"\n",
    "        log_path=\"surge_log_concat/surge_data_LPS_Classical Monocytes (CD14+CD16-).h5ad\"\n",
    "        output_path = f\"plot_arcsinh_vs_log1p/{doms_stim}_{cell_type}_{marker}_surge.png\"\n",
    "        \n",
    "        plot_result(arcsinh_path, log_path, marker, output_path,doms_stim)\n",
    "        print(f\"Plot {marker} for {cell_type} and {doms_stim}\")"
   ]
  }
 ],
 "metadata": {
  "kernelspec": {
   "display_name": "create_data_cellot",
   "language": "python",
   "name": "python3"
  },
  "language_info": {
   "codemirror_mode": {
    "name": "ipython",
    "version": 3
   },
   "file_extension": ".py",
   "mimetype": "text/x-python",
   "name": "python",
   "nbconvert_exporter": "python",
   "pygments_lexer": "ipython3",
   "version": "3.9.19"
  }
 },
 "nbformat": 4,
 "nbformat_minor": 5
}
