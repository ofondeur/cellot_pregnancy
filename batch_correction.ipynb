{
 "cells": [
  {
   "cell_type": "code",
   "execution_count": 15,
   "id": "14d841e3",
   "metadata": {},
   "outputs": [],
   "source": [
    "import anndata as ad\n",
    "from pycombat import Combat\n",
    "import numpy as np\n",
    "import pandas as pd\n",
    "import os"
   ]
  },
  {
   "cell_type": "code",
   "execution_count": 16,
   "id": "8f63c08b",
   "metadata": {},
   "outputs": [],
   "source": [
    "correspondence = {}\n",
    "correspondence['149Sm_CREB'] ='149Sm_pCREB'\n",
    "correspondence['167Er_ERK'] ='167Er_pERK'\n",
    "correspondence['164Dy_IkB'] ='164Dy_IkB'\n",
    "correspondence['159Tb_MAPKAPK2'] ='159Tb_pMAPKAPK2'\n",
    "correspondence['166Er_NFkB'] ='166Er_pNFkB'\n",
    "correspondence['151Eu_p38'] ='151Eu_pp38'\n",
    "correspondence['155Gd_S6'] ='155Gd_pS6'\n",
    "correspondence['153Eu_STAT1'] ='153Eu_pSTAT1'\n",
    "correspondence['154Sm_STAT3'] ='154Sm_pSTAT3'\n",
    "correspondence['150Nd_STAT5'] ='150Nd_pSTAT5'\n",
    "correspondence['168Er_pSTAT6'] ='168Er_pSTAT6'\n",
    "correspondence['174Yb_HLADR'] ='174Yb_HLADR'\n",
    "correspondence['169Tm_CD25'] ='169Tm_CD25'"
   ]
  },
  {
   "cell_type": "code",
   "execution_count": 17,
   "id": "3cec9da4",
   "metadata": {},
   "outputs": [],
   "source": [
    "def batch_correction_combat(correspondence,perio_path, surge_path,stim):\n",
    "    perio = ad.read_h5ad(perio_path)\n",
    "    surge = ad.read_h5ad(surge_path)\n",
    "    # Load AnnData\n",
    "    perio_unstim=perio[perio.obs['drug']=='Unstim']\n",
    "    surge_unstim=surge[surge.obs['drug']=='Unstim']\n",
    "    surge_stim=surge[surge.obs['drug']==stim]\n",
    "\n",
    "    # Choose the features\n",
    "    features=correspondence.values()\n",
    "    features = list(features)\n",
    "    surge_unstim = surge_unstim[:, features]\n",
    "    surge_stim = surge_stim[:, features]\n",
    "\n",
    "    # Rename the features in perio_unstim to match those in surge_unstim\n",
    "    for marker in correspondence.keys():\n",
    "        perio_unstim.var_names = perio_unstim.var_names.to_series().replace(correspondence).values\n",
    "    perio_unstim = perio_unstim[:, features]\n",
    "    assert perio_unstim.var_names.equals(surge_unstim.var_names)\n",
    "    \n",
    "    combined_unstim = ad.concat(\n",
    "        {\"perio\": perio_unstim, \"surge\": surge_unstim},\n",
    "        label=\"batch\"\n",
    "    )\n",
    "\n",
    "    combat = Combat()\n",
    "    X_corrected_unstim = combat.fit_transform(combined_unstim.X, combined_unstim.obs[\"batch\"])\n",
    "\n",
    "    surge_unstim_corrected = surge_unstim.copy()\n",
    "    surge_unstim_corrected.X = X_corrected_unstim[combined_unstim.obs[\"batch\"] == \"surge\"]\n",
    "\n",
    "    # Create a dummy row for the perio batch\n",
    "    dummy = surge_stim[:1].copy()  # copy one row from surge_stim\n",
    "    dummy.X = np.zeros_like(dummy.X)  # zero values\n",
    "    dummy.obs['batch'] = 'perio'\n",
    "\n",
    "    # Concat dummy + real surge_stim\n",
    "    combined_stim = ad.concat(\n",
    "        {\"surge\": surge_stim, \"perio\": dummy},\n",
    "        label=\"batch\"\n",
    "    )\n",
    "\n",
    "    # Perform batch correction on the combined data\n",
    "    X_surge_corrected = combat.transform(combined_stim.X,combined_stim.obs['batch'])  # Only transform, don't fit\n",
    "    surge_stim_corrected = surge_stim.copy()\n",
    "    surge_stim_corrected.X = X_surge_corrected[combined_stim.obs[\"batch\"] == \"surge\"]\n",
    "\n",
    "    surge_corrected=ad.concat(\n",
    "        {\"Unstim\": surge_unstim_corrected, stim: surge_stim_corrected},\n",
    "        label=\"stim\"\n",
    "    )\n",
    "\n",
    "    surge_corrected = surge_corrected.copy()\n",
    "    surge_corrected.strings_to_categoricals()\n",
    "\n",
    "    for col in surge_corrected.obs.columns:\n",
    "        if isinstance(surge_corrected.obs[col].dtype, pd.CategoricalDtype):\n",
    "            surge_corrected.obs[col] = surge_corrected.obs[col].astype(str)\n",
    "    surge_name= surge_path.split('/')[-1]\n",
    "    surge_corrected.write('doms_corrected/'+surge_name)\n",
    "    return"
   ]
  },
  {
   "cell_type": "code",
   "execution_count": 19,
   "id": "dc9045bf",
   "metadata": {},
   "outputs": [
    {
     "name": "stderr",
     "output_type": "stream",
     "text": [
      "Observation names are not unique. To make them unique, call `.obs_names_make_unique`.\n",
      "Observation names are not unique. To make them unique, call `.obs_names_make_unique`.\n",
      "Observation names are not unique. To make them unique, call `.obs_names_make_unique`.\n",
      "Observation names are not unique. To make them unique, call `.obs_names_make_unique`.\n",
      "Observation names are not unique. To make them unique, call `.obs_names_make_unique`.\n",
      "Observation names are not unique. To make them unique, call `.obs_names_make_unique`.\n",
      "Observation names are not unique. To make them unique, call `.obs_names_make_unique`.\n",
      "Observation names are not unique. To make them unique, call `.obs_names_make_unique`.\n",
      "Observation names are not unique. To make them unique, call `.obs_names_make_unique`.\n",
      "Observation names are not unique. To make them unique, call `.obs_names_make_unique`.\n",
      "... storing 'drug' as categorical\n",
      "... storing 'drug' as categorical\n",
      "... storing 'cell_type' as categorical\n",
      "... storing 'patient' as categorical\n",
      "... storing 'stim' as categorical\n",
      "Observation names are not unique. To make them unique, call `.obs_names_make_unique`.\n",
      "Observation names are not unique. To make them unique, call `.obs_names_make_unique`.\n",
      "Observation names are not unique. To make them unique, call `.obs_names_make_unique`.\n",
      "Observation names are not unique. To make them unique, call `.obs_names_make_unique`.\n",
      "Observation names are not unique. To make them unique, call `.obs_names_make_unique`.\n",
      "Observation names are not unique. To make them unique, call `.obs_names_make_unique`.\n",
      "Observation names are not unique. To make them unique, call `.obs_names_make_unique`.\n",
      "Observation names are not unique. To make them unique, call `.obs_names_make_unique`.\n",
      "Observation names are not unique. To make them unique, call `.obs_names_make_unique`.\n",
      "Observation names are not unique. To make them unique, call `.obs_names_make_unique`.\n",
      "... storing 'drug' as categorical\n",
      "... storing 'drug' as categorical\n",
      "... storing 'cell_type' as categorical\n",
      "... storing 'patient' as categorical\n",
      "... storing 'stim' as categorical\n",
      "Observation names are not unique. To make them unique, call `.obs_names_make_unique`.\n",
      "Observation names are not unique. To make them unique, call `.obs_names_make_unique`.\n"
     ]
    },
    {
     "name": "stdout",
     "output_type": "stream",
     "text": [
      "Corrected perio_data_sherlockIFNa_Classical Monocytes (CD14+CD16-)_train.h5ad and doms_concatenated_LPS_Intermediate Monocytes (CD14+CD16+).h5ad\n",
      "Corrected perio_data_sherlockP. gingivalis_Intermediate Monocytes (CD14+CD16+)_train.h5ad and doms_concatenated_IFNa_B-Cells (CD19+CD3-).h5ad\n"
     ]
    },
    {
     "name": "stderr",
     "output_type": "stream",
     "text": [
      "Observation names are not unique. To make them unique, call `.obs_names_make_unique`.\n",
      "Observation names are not unique. To make them unique, call `.obs_names_make_unique`.\n",
      "Observation names are not unique. To make them unique, call `.obs_names_make_unique`.\n",
      "Observation names are not unique. To make them unique, call `.obs_names_make_unique`.\n",
      "Observation names are not unique. To make them unique, call `.obs_names_make_unique`.\n",
      "Observation names are not unique. To make them unique, call `.obs_names_make_unique`.\n",
      "Observation names are not unique. To make them unique, call `.obs_names_make_unique`.\n",
      "Observation names are not unique. To make them unique, call `.obs_names_make_unique`.\n",
      "... storing 'drug' as categorical\n",
      "... storing 'drug' as categorical\n",
      "... storing 'cell_type' as categorical\n",
      "... storing 'patient' as categorical\n",
      "... storing 'stim' as categorical\n"
     ]
    },
    {
     "name": "stdout",
     "output_type": "stream",
     "text": [
      "Corrected perio_data_sherlockP. gingivalis_MDSCs (lin-CD11b-CD14+HLADRlo)_train.h5ad and doms_concatenated_LPS_mDCs (CD11c+HLADR+).h5ad\n"
     ]
    },
    {
     "name": "stderr",
     "output_type": "stream",
     "text": [
      "Observation names are not unique. To make them unique, call `.obs_names_make_unique`.\n",
      "Observation names are not unique. To make them unique, call `.obs_names_make_unique`.\n",
      "Observation names are not unique. To make them unique, call `.obs_names_make_unique`.\n",
      "Observation names are not unique. To make them unique, call `.obs_names_make_unique`.\n",
      "Observation names are not unique. To make them unique, call `.obs_names_make_unique`.\n",
      "Observation names are not unique. To make them unique, call `.obs_names_make_unique`.\n",
      "Observation names are not unique. To make them unique, call `.obs_names_make_unique`.\n",
      "Observation names are not unique. To make them unique, call `.obs_names_make_unique`.\n",
      "Observation names are not unique. To make them unique, call `.obs_names_make_unique`.\n",
      "Observation names are not unique. To make them unique, call `.obs_names_make_unique`.\n",
      "... storing 'drug' as categorical\n",
      "... storing 'drug' as categorical\n",
      "... storing 'cell_type' as categorical\n",
      "... storing 'patient' as categorical\n",
      "... storing 'stim' as categorical\n",
      "Observation names are not unique. To make them unique, call `.obs_names_make_unique`.\n",
      "Observation names are not unique. To make them unique, call `.obs_names_make_unique`.\n",
      "Observation names are not unique. To make them unique, call `.obs_names_make_unique`.\n",
      "Observation names are not unique. To make them unique, call `.obs_names_make_unique`.\n",
      "Observation names are not unique. To make them unique, call `.obs_names_make_unique`.\n",
      "Observation names are not unique. To make them unique, call `.obs_names_make_unique`.\n",
      "Observation names are not unique. To make them unique, call `.obs_names_make_unique`.\n",
      "Observation names are not unique. To make them unique, call `.obs_names_make_unique`.\n"
     ]
    },
    {
     "name": "stdout",
     "output_type": "stream",
     "text": [
      "Corrected perio_data_sherlockIFNa_CD8 T-Cells_train.h5ad and doms_concatenated_IFNa_CD4 T-Cells.h5ad\n"
     ]
    },
    {
     "name": "stderr",
     "output_type": "stream",
     "text": [
      "Observation names are not unique. To make them unique, call `.obs_names_make_unique`.\n",
      "Observation names are not unique. To make them unique, call `.obs_names_make_unique`.\n",
      "... storing 'drug' as categorical\n",
      "... storing 'drug' as categorical\n",
      "... storing 'cell_type' as categorical\n",
      "... storing 'patient' as categorical\n",
      "... storing 'stim' as categorical\n"
     ]
    },
    {
     "name": "stdout",
     "output_type": "stream",
     "text": [
      "Corrected perio_data_sherlockIFNa_pDCs(CD123+HLADR+)_train.h5ad and doms_concatenated_LPS_NK Cells (CD7+).h5ad\n"
     ]
    },
    {
     "name": "stderr",
     "output_type": "stream",
     "text": [
      "Observation names are not unique. To make them unique, call `.obs_names_make_unique`.\n",
      "Observation names are not unique. To make them unique, call `.obs_names_make_unique`.\n",
      "Observation names are not unique. To make them unique, call `.obs_names_make_unique`.\n",
      "Observation names are not unique. To make them unique, call `.obs_names_make_unique`.\n",
      "Observation names are not unique. To make them unique, call `.obs_names_make_unique`.\n",
      "Observation names are not unique. To make them unique, call `.obs_names_make_unique`.\n",
      "Observation names are not unique. To make them unique, call `.obs_names_make_unique`.\n",
      "Observation names are not unique. To make them unique, call `.obs_names_make_unique`.\n",
      "Observation names are not unique. To make them unique, call `.obs_names_make_unique`.\n",
      "Observation names are not unique. To make them unique, call `.obs_names_make_unique`.\n",
      "... storing 'drug' as categorical\n",
      "... storing 'drug' as categorical\n",
      "... storing 'cell_type' as categorical\n",
      "... storing 'patient' as categorical\n",
      "... storing 'stim' as categorical\n",
      "Observation names are not unique. To make them unique, call `.obs_names_make_unique`.\n"
     ]
    },
    {
     "name": "stdout",
     "output_type": "stream",
     "text": [
      "Corrected perio_data_sherlockP. gingivalis_CD4 T-Cells_train.h5ad and doms_concatenated_LPS_Tregs (CD25+FoxP3+).h5ad\n"
     ]
    },
    {
     "name": "stderr",
     "output_type": "stream",
     "text": [
      "Observation names are not unique. To make them unique, call `.obs_names_make_unique`.\n",
      "Observation names are not unique. To make them unique, call `.obs_names_make_unique`.\n",
      "Observation names are not unique. To make them unique, call `.obs_names_make_unique`.\n",
      "Observation names are not unique. To make them unique, call `.obs_names_make_unique`.\n",
      "Observation names are not unique. To make them unique, call `.obs_names_make_unique`.\n",
      "Observation names are not unique. To make them unique, call `.obs_names_make_unique`.\n",
      "Observation names are not unique. To make them unique, call `.obs_names_make_unique`.\n",
      "Observation names are not unique. To make them unique, call `.obs_names_make_unique`.\n",
      "Observation names are not unique. To make them unique, call `.obs_names_make_unique`.\n",
      "... storing 'drug' as categorical\n",
      "... storing 'drug' as categorical\n",
      "... storing 'cell_type' as categorical\n",
      "... storing 'patient' as categorical\n",
      "... storing 'stim' as categorical\n"
     ]
    },
    {
     "name": "stdout",
     "output_type": "stream",
     "text": [
      "Corrected perio_data_sherlockP. gingivalis_Tregs (CD25+FoxP3+)_train.h5ad and doms_concatenated_IFNa_Granulocytes (CD45-CD66+).h5ad\n"
     ]
    },
    {
     "name": "stderr",
     "output_type": "stream",
     "text": [
      "Observation names are not unique. To make them unique, call `.obs_names_make_unique`.\n",
      "Observation names are not unique. To make them unique, call `.obs_names_make_unique`.\n",
      "Observation names are not unique. To make them unique, call `.obs_names_make_unique`.\n",
      "Observation names are not unique. To make them unique, call `.obs_names_make_unique`.\n",
      "Observation names are not unique. To make them unique, call `.obs_names_make_unique`.\n",
      "Observation names are not unique. To make them unique, call `.obs_names_make_unique`.\n",
      "Observation names are not unique. To make them unique, call `.obs_names_make_unique`.\n",
      "Observation names are not unique. To make them unique, call `.obs_names_make_unique`.\n",
      "Observation names are not unique. To make them unique, call `.obs_names_make_unique`.\n",
      "Observation names are not unique. To make them unique, call `.obs_names_make_unique`.\n",
      "... storing 'drug' as categorical\n",
      "... storing 'drug' as categorical\n",
      "... storing 'cell_type' as categorical\n",
      "... storing 'patient' as categorical\n",
      "... storing 'stim' as categorical\n",
      "Observation names are not unique. To make them unique, call `.obs_names_make_unique`.\n",
      "Observation names are not unique. To make them unique, call `.obs_names_make_unique`.\n",
      "Observation names are not unique. To make them unique, call `.obs_names_make_unique`.\n",
      "Observation names are not unique. To make them unique, call `.obs_names_make_unique`.\n",
      "Observation names are not unique. To make them unique, call `.obs_names_make_unique`.\n",
      "Observation names are not unique. To make them unique, call `.obs_names_make_unique`.\n",
      "Observation names are not unique. To make them unique, call `.obs_names_make_unique`.\n",
      "Observation names are not unique. To make them unique, call `.obs_names_make_unique`.\n",
      "Observation names are not unique. To make them unique, call `.obs_names_make_unique`.\n",
      "Observation names are not unique. To make them unique, call `.obs_names_make_unique`.\n",
      "... storing 'drug' as categorical\n",
      "... storing 'drug' as categorical\n",
      "... storing 'cell_type' as categorical\n",
      "... storing 'patient' as categorical\n",
      "... storing 'stim' as categorical\n"
     ]
    },
    {
     "name": "stdout",
     "output_type": "stream",
     "text": [
      "Corrected perio_data_sherlockP. gingivalis_Granulocytes (CD45-CD66+)_train.h5ad and doms_concatenated_IFNa_CD8 T-Cells.h5ad\n",
      "Corrected perio_data_sherlockP. gingivalis_CD56+CD16- NK Cells_train.h5ad and doms_concatenated_IFNa_CD8-CD4- T-Cells.h5ad\n"
     ]
    },
    {
     "name": "stderr",
     "output_type": "stream",
     "text": [
      "Observation names are not unique. To make them unique, call `.obs_names_make_unique`.\n",
      "Observation names are not unique. To make them unique, call `.obs_names_make_unique`.\n",
      "Observation names are not unique. To make them unique, call `.obs_names_make_unique`.\n",
      "Observation names are not unique. To make them unique, call `.obs_names_make_unique`.\n",
      "Observation names are not unique. To make them unique, call `.obs_names_make_unique`.\n",
      "Observation names are not unique. To make them unique, call `.obs_names_make_unique`.\n",
      "Observation names are not unique. To make them unique, call `.obs_names_make_unique`.\n",
      "Observation names are not unique. To make them unique, call `.obs_names_make_unique`.\n",
      "Observation names are not unique. To make them unique, call `.obs_names_make_unique`.\n",
      "Observation names are not unique. To make them unique, call `.obs_names_make_unique`.\n",
      "... storing 'drug' as categorical\n",
      "... storing 'drug' as categorical\n",
      "... storing 'cell_type' as categorical\n",
      "... storing 'patient' as categorical\n",
      "... storing 'stim' as categorical\n",
      "Observation names are not unique. To make them unique, call `.obs_names_make_unique`.\n",
      "Observation names are not unique. To make them unique, call `.obs_names_make_unique`.\n",
      "Observation names are not unique. To make them unique, call `.obs_names_make_unique`.\n",
      "Observation names are not unique. To make them unique, call `.obs_names_make_unique`.\n",
      "Observation names are not unique. To make them unique, call `.obs_names_make_unique`.\n",
      "Observation names are not unique. To make them unique, call `.obs_names_make_unique`.\n",
      "Observation names are not unique. To make them unique, call `.obs_names_make_unique`.\n"
     ]
    },
    {
     "name": "stdout",
     "output_type": "stream",
     "text": [
      "Corrected perio_data_sherlockIFNa_B-Cells (CD19+CD3-)_train.h5ad and doms_concatenated_LPS_CD56+CD16- NK Cells.h5ad\n"
     ]
    },
    {
     "name": "stderr",
     "output_type": "stream",
     "text": [
      "Observation names are not unique. To make them unique, call `.obs_names_make_unique`.\n",
      "Observation names are not unique. To make them unique, call `.obs_names_make_unique`.\n",
      "Observation names are not unique. To make them unique, call `.obs_names_make_unique`.\n",
      "... storing 'drug' as categorical\n",
      "... storing 'drug' as categorical\n",
      "... storing 'cell_type' as categorical\n",
      "... storing 'patient' as categorical\n",
      "... storing 'stim' as categorical\n",
      "Observation names are not unique. To make them unique, call `.obs_names_make_unique`.\n",
      "Observation names are not unique. To make them unique, call `.obs_names_make_unique`.\n",
      "Observation names are not unique. To make them unique, call `.obs_names_make_unique`.\n",
      "Observation names are not unique. To make them unique, call `.obs_names_make_unique`.\n",
      "Observation names are not unique. To make them unique, call `.obs_names_make_unique`.\n"
     ]
    },
    {
     "name": "stdout",
     "output_type": "stream",
     "text": [
      "Corrected perio_data_sherlockP. gingivalis_mDCs (CD11c+HLADR+)_train.h5ad and doms_concatenated_IFNa_Classical Monocytes (CD14+CD16-).h5ad\n"
     ]
    },
    {
     "name": "stderr",
     "output_type": "stream",
     "text": [
      "Observation names are not unique. To make them unique, call `.obs_names_make_unique`.\n",
      "Observation names are not unique. To make them unique, call `.obs_names_make_unique`.\n",
      "Observation names are not unique. To make them unique, call `.obs_names_make_unique`.\n",
      "Observation names are not unique. To make them unique, call `.obs_names_make_unique`.\n",
      "Observation names are not unique. To make them unique, call `.obs_names_make_unique`.\n",
      "... storing 'drug' as categorical\n",
      "... storing 'drug' as categorical\n",
      "... storing 'cell_type' as categorical\n",
      "... storing 'patient' as categorical\n",
      "... storing 'stim' as categorical\n",
      "Observation names are not unique. To make them unique, call `.obs_names_make_unique`.\n",
      "Observation names are not unique. To make them unique, call `.obs_names_make_unique`.\n",
      "Observation names are not unique. To make them unique, call `.obs_names_make_unique`.\n",
      "Observation names are not unique. To make them unique, call `.obs_names_make_unique`.\n",
      "Observation names are not unique. To make them unique, call `.obs_names_make_unique`.\n",
      "Observation names are not unique. To make them unique, call `.obs_names_make_unique`.\n",
      "Observation names are not unique. To make them unique, call `.obs_names_make_unique`.\n",
      "Observation names are not unique. To make them unique, call `.obs_names_make_unique`.\n",
      "Observation names are not unique. To make them unique, call `.obs_names_make_unique`.\n",
      "Observation names are not unique. To make them unique, call `.obs_names_make_unique`.\n",
      "... storing 'drug' as categorical\n",
      "... storing 'drug' as categorical\n",
      "... storing 'cell_type' as categorical\n",
      "... storing 'patient' as categorical\n",
      "... storing 'stim' as categorical\n",
      "Observation names are not unique. To make them unique, call `.obs_names_make_unique`.\n",
      "Observation names are not unique. To make them unique, call `.obs_names_make_unique`.\n",
      "Observation names are not unique. To make them unique, call `.obs_names_make_unique`.\n",
      "Observation names are not unique. To make them unique, call `.obs_names_make_unique`.\n"
     ]
    },
    {
     "name": "stdout",
     "output_type": "stream",
     "text": [
      "Corrected perio_data_sherlockP. gingivalis_NK Cells (CD7+)_train.h5ad and doms_concatenated_LPS_pDCs(CD123+HLADR+).h5ad\n",
      "Corrected perio_data_sherlockIFNa_Intermediate Monocytes (CD14+CD16+)_train.h5ad and doms_concatenated_LPS_MDSCs (lin-CD11b-CD14+HLADRlo).h5ad\n"
     ]
    },
    {
     "name": "stderr",
     "output_type": "stream",
     "text": [
      "Observation names are not unique. To make them unique, call `.obs_names_make_unique`.\n",
      "Observation names are not unique. To make them unique, call `.obs_names_make_unique`.\n",
      "Observation names are not unique. To make them unique, call `.obs_names_make_unique`.\n",
      "Observation names are not unique. To make them unique, call `.obs_names_make_unique`.\n",
      "Observation names are not unique. To make them unique, call `.obs_names_make_unique`.\n",
      "Observation names are not unique. To make them unique, call `.obs_names_make_unique`.\n",
      "... storing 'drug' as categorical\n",
      "... storing 'drug' as categorical\n",
      "... storing 'cell_type' as categorical\n",
      "... storing 'patient' as categorical\n",
      "... storing 'stim' as categorical\n",
      "Observation names are not unique. To make them unique, call `.obs_names_make_unique`.\n",
      "Observation names are not unique. To make them unique, call `.obs_names_make_unique`.\n",
      "Observation names are not unique. To make them unique, call `.obs_names_make_unique`.\n",
      "Observation names are not unique. To make them unique, call `.obs_names_make_unique`.\n",
      "Observation names are not unique. To make them unique, call `.obs_names_make_unique`.\n"
     ]
    },
    {
     "name": "stdout",
     "output_type": "stream",
     "text": [
      "Corrected perio_data_sherlockP. gingivalis_CD56loCD16+NK Cells_train.h5ad and doms_concatenated_IFNa_Non-classical Monocytes (CD14-CD16+).h5ad\n"
     ]
    },
    {
     "name": "stderr",
     "output_type": "stream",
     "text": [
      "Observation names are not unique. To make them unique, call `.obs_names_make_unique`.\n",
      "Observation names are not unique. To make them unique, call `.obs_names_make_unique`.\n",
      "Observation names are not unique. To make them unique, call `.obs_names_make_unique`.\n",
      "Observation names are not unique. To make them unique, call `.obs_names_make_unique`.\n",
      "Observation names are not unique. To make them unique, call `.obs_names_make_unique`.\n",
      "... storing 'drug' as categorical\n",
      "... storing 'drug' as categorical\n",
      "... storing 'cell_type' as categorical\n",
      "... storing 'patient' as categorical\n",
      "... storing 'stim' as categorical\n",
      "Observation names are not unique. To make them unique, call `.obs_names_make_unique`.\n",
      "Observation names are not unique. To make them unique, call `.obs_names_make_unique`.\n",
      "Observation names are not unique. To make them unique, call `.obs_names_make_unique`.\n",
      "Observation names are not unique. To make them unique, call `.obs_names_make_unique`.\n",
      "Observation names are not unique. To make them unique, call `.obs_names_make_unique`.\n"
     ]
    },
    {
     "name": "stdout",
     "output_type": "stream",
     "text": [
      "Corrected perio_data_sherlockP. gingivalis_CD8-CD4- T-Cells_train.h5ad and doms_concatenated_IFNa_CD56loCD16+NK Cells.h5ad\n"
     ]
    },
    {
     "name": "stderr",
     "output_type": "stream",
     "text": [
      "Observation names are not unique. To make them unique, call `.obs_names_make_unique`.\n",
      "Observation names are not unique. To make them unique, call `.obs_names_make_unique`.\n",
      "Observation names are not unique. To make them unique, call `.obs_names_make_unique`.\n",
      "Observation names are not unique. To make them unique, call `.obs_names_make_unique`.\n",
      "Observation names are not unique. To make them unique, call `.obs_names_make_unique`.\n",
      "... storing 'drug' as categorical\n",
      "... storing 'drug' as categorical\n",
      "... storing 'cell_type' as categorical\n",
      "... storing 'patient' as categorical\n",
      "... storing 'stim' as categorical\n",
      "Observation names are not unique. To make them unique, call `.obs_names_make_unique`.\n",
      "Observation names are not unique. To make them unique, call `.obs_names_make_unique`.\n",
      "Observation names are not unique. To make them unique, call `.obs_names_make_unique`.\n",
      "Observation names are not unique. To make them unique, call `.obs_names_make_unique`.\n",
      "Observation names are not unique. To make them unique, call `.obs_names_make_unique`.\n"
     ]
    },
    {
     "name": "stdout",
     "output_type": "stream",
     "text": [
      "Corrected perio_data_sherlockIFNa_mDCs (CD11c+HLADR+)_train.h5ad and doms_concatenated_IFNa_NK Cells (CD7+).h5ad\n"
     ]
    },
    {
     "name": "stderr",
     "output_type": "stream",
     "text": [
      "Observation names are not unique. To make them unique, call `.obs_names_make_unique`.\n",
      "Observation names are not unique. To make them unique, call `.obs_names_make_unique`.\n",
      "Observation names are not unique. To make them unique, call `.obs_names_make_unique`.\n",
      "Observation names are not unique. To make them unique, call `.obs_names_make_unique`.\n",
      "Observation names are not unique. To make them unique, call `.obs_names_make_unique`.\n",
      "... storing 'drug' as categorical\n",
      "... storing 'drug' as categorical\n",
      "... storing 'cell_type' as categorical\n",
      "... storing 'patient' as categorical\n",
      "... storing 'stim' as categorical\n",
      "Observation names are not unique. To make them unique, call `.obs_names_make_unique`.\n",
      "Observation names are not unique. To make them unique, call `.obs_names_make_unique`.\n",
      "Observation names are not unique. To make them unique, call `.obs_names_make_unique`.\n",
      "Observation names are not unique. To make them unique, call `.obs_names_make_unique`.\n",
      "Observation names are not unique. To make them unique, call `.obs_names_make_unique`.\n"
     ]
    },
    {
     "name": "stdout",
     "output_type": "stream",
     "text": [
      "Corrected perio_data_sherlockIFNa_CD56loCD16+NK Cells_train.h5ad and doms_concatenated_IFNa_pDCs(CD123+HLADR+).h5ad\n"
     ]
    },
    {
     "name": "stderr",
     "output_type": "stream",
     "text": [
      "Observation names are not unique. To make them unique, call `.obs_names_make_unique`.\n",
      "Observation names are not unique. To make them unique, call `.obs_names_make_unique`.\n",
      "Observation names are not unique. To make them unique, call `.obs_names_make_unique`.\n",
      "Observation names are not unique. To make them unique, call `.obs_names_make_unique`.\n",
      "Observation names are not unique. To make them unique, call `.obs_names_make_unique`.\n",
      "... storing 'drug' as categorical\n",
      "... storing 'drug' as categorical\n",
      "... storing 'cell_type' as categorical\n",
      "... storing 'patient' as categorical\n",
      "... storing 'stim' as categorical\n",
      "Observation names are not unique. To make them unique, call `.obs_names_make_unique`.\n",
      "Observation names are not unique. To make them unique, call `.obs_names_make_unique`.\n",
      "Observation names are not unique. To make them unique, call `.obs_names_make_unique`.\n",
      "Observation names are not unique. To make them unique, call `.obs_names_make_unique`.\n",
      "Observation names are not unique. To make them unique, call `.obs_names_make_unique`.\n"
     ]
    },
    {
     "name": "stdout",
     "output_type": "stream",
     "text": [
      "Corrected perio_data_sherlockIFNa_NK Cells (CD7+)_train.h5ad and doms_concatenated_LPS_B-Cells (CD19+CD3-).h5ad\n"
     ]
    },
    {
     "name": "stderr",
     "output_type": "stream",
     "text": [
      "Observation names are not unique. To make them unique, call `.obs_names_make_unique`.\n",
      "Observation names are not unique. To make them unique, call `.obs_names_make_unique`.\n",
      "Observation names are not unique. To make them unique, call `.obs_names_make_unique`.\n",
      "Observation names are not unique. To make them unique, call `.obs_names_make_unique`.\n",
      "Observation names are not unique. To make them unique, call `.obs_names_make_unique`.\n",
      "... storing 'drug' as categorical\n",
      "... storing 'drug' as categorical\n",
      "... storing 'cell_type' as categorical\n",
      "... storing 'patient' as categorical\n",
      "... storing 'stim' as categorical\n",
      "Observation names are not unique. To make them unique, call `.obs_names_make_unique`.\n",
      "Observation names are not unique. To make them unique, call `.obs_names_make_unique`.\n",
      "Observation names are not unique. To make them unique, call `.obs_names_make_unique`.\n",
      "Observation names are not unique. To make them unique, call `.obs_names_make_unique`.\n"
     ]
    },
    {
     "name": "stdout",
     "output_type": "stream",
     "text": [
      "Corrected perio_data_sherlockIFNa_Non-classical Monocytes (CD14-CD16+)_train.h5ad and doms_concatenated_LPS_CD4 T-Cells.h5ad\n"
     ]
    },
    {
     "name": "stderr",
     "output_type": "stream",
     "text": [
      "Observation names are not unique. To make them unique, call `.obs_names_make_unique`.\n",
      "Observation names are not unique. To make them unique, call `.obs_names_make_unique`.\n",
      "Observation names are not unique. To make them unique, call `.obs_names_make_unique`.\n",
      "Observation names are not unique. To make them unique, call `.obs_names_make_unique`.\n",
      "Observation names are not unique. To make them unique, call `.obs_names_make_unique`.\n",
      "Observation names are not unique. To make them unique, call `.obs_names_make_unique`.\n",
      "... storing 'drug' as categorical\n",
      "... storing 'drug' as categorical\n",
      "... storing 'cell_type' as categorical\n",
      "... storing 'patient' as categorical\n",
      "... storing 'stim' as categorical\n"
     ]
    },
    {
     "name": "stdout",
     "output_type": "stream",
     "text": [
      "Corrected perio_data_sherlockP. gingivalis_B-Cells (CD19+CD3-)_train.h5ad and doms_concatenated_LPS_Classical Monocytes (CD14+CD16-).h5ad\n"
     ]
    },
    {
     "name": "stderr",
     "output_type": "stream",
     "text": [
      "Observation names are not unique. To make them unique, call `.obs_names_make_unique`.\n",
      "Observation names are not unique. To make them unique, call `.obs_names_make_unique`.\n",
      "Observation names are not unique. To make them unique, call `.obs_names_make_unique`.\n",
      "Observation names are not unique. To make them unique, call `.obs_names_make_unique`.\n",
      "Observation names are not unique. To make them unique, call `.obs_names_make_unique`.\n",
      "Observation names are not unique. To make them unique, call `.obs_names_make_unique`.\n",
      "Observation names are not unique. To make them unique, call `.obs_names_make_unique`.\n",
      "Observation names are not unique. To make them unique, call `.obs_names_make_unique`.\n",
      "Observation names are not unique. To make them unique, call `.obs_names_make_unique`.\n",
      "Observation names are not unique. To make them unique, call `.obs_names_make_unique`.\n",
      "... storing 'drug' as categorical\n",
      "... storing 'drug' as categorical\n",
      "... storing 'cell_type' as categorical\n",
      "... storing 'patient' as categorical\n",
      "... storing 'stim' as categorical\n",
      "Observation names are not unique. To make them unique, call `.obs_names_make_unique`.\n",
      "Observation names are not unique. To make them unique, call `.obs_names_make_unique`.\n",
      "Observation names are not unique. To make them unique, call `.obs_names_make_unique`.\n",
      "Observation names are not unique. To make them unique, call `.obs_names_make_unique`.\n",
      "Observation names are not unique. To make them unique, call `.obs_names_make_unique`.\n"
     ]
    },
    {
     "name": "stdout",
     "output_type": "stream",
     "text": [
      "Corrected perio_data_sherlockP. gingivalis_Classical Monocytes (CD14+CD16-)_train.h5ad and doms_concatenated_IFNa_MDSCs (lin-CD11b-CD14+HLADRlo).h5ad\n"
     ]
    },
    {
     "name": "stderr",
     "output_type": "stream",
     "text": [
      "Observation names are not unique. To make them unique, call `.obs_names_make_unique`.\n",
      "Observation names are not unique. To make them unique, call `.obs_names_make_unique`.\n",
      "Observation names are not unique. To make them unique, call `.obs_names_make_unique`.\n",
      "Observation names are not unique. To make them unique, call `.obs_names_make_unique`.\n",
      "Observation names are not unique. To make them unique, call `.obs_names_make_unique`.\n",
      "... storing 'drug' as categorical\n",
      "... storing 'drug' as categorical\n",
      "... storing 'cell_type' as categorical\n",
      "... storing 'patient' as categorical\n",
      "... storing 'stim' as categorical\n",
      "Observation names are not unique. To make them unique, call `.obs_names_make_unique`.\n",
      "Observation names are not unique. To make them unique, call `.obs_names_make_unique`.\n",
      "Observation names are not unique. To make them unique, call `.obs_names_make_unique`.\n",
      "Observation names are not unique. To make them unique, call `.obs_names_make_unique`.\n",
      "Observation names are not unique. To make them unique, call `.obs_names_make_unique`.\n"
     ]
    },
    {
     "name": "stdout",
     "output_type": "stream",
     "text": [
      "Corrected perio_data_sherlockIFNa_CD8-CD4- T-Cells_train.h5ad and doms_concatenated_IFNa_mDCs (CD11c+HLADR+).h5ad\n"
     ]
    },
    {
     "name": "stderr",
     "output_type": "stream",
     "text": [
      "Observation names are not unique. To make them unique, call `.obs_names_make_unique`.\n",
      "Observation names are not unique. To make them unique, call `.obs_names_make_unique`.\n",
      "Observation names are not unique. To make them unique, call `.obs_names_make_unique`.\n",
      "Observation names are not unique. To make them unique, call `.obs_names_make_unique`.\n",
      "Observation names are not unique. To make them unique, call `.obs_names_make_unique`.\n",
      "... storing 'drug' as categorical\n",
      "... storing 'drug' as categorical\n",
      "... storing 'cell_type' as categorical\n",
      "... storing 'patient' as categorical\n",
      "... storing 'stim' as categorical\n",
      "Observation names are not unique. To make them unique, call `.obs_names_make_unique`.\n",
      "Observation names are not unique. To make them unique, call `.obs_names_make_unique`.\n",
      "Observation names are not unique. To make them unique, call `.obs_names_make_unique`.\n",
      "Observation names are not unique. To make them unique, call `.obs_names_make_unique`.\n",
      "Observation names are not unique. To make them unique, call `.obs_names_make_unique`.\n",
      "Observation names are not unique. To make them unique, call `.obs_names_make_unique`.\n",
      "Observation names are not unique. To make them unique, call `.obs_names_make_unique`.\n",
      "Observation names are not unique. To make them unique, call `.obs_names_make_unique`.\n",
      "Observation names are not unique. To make them unique, call `.obs_names_make_unique`.\n",
      "Observation names are not unique. To make them unique, call `.obs_names_make_unique`.\n",
      "... storing 'drug' as categorical\n",
      "... storing 'drug' as categorical\n",
      "... storing 'cell_type' as categorical\n",
      "... storing 'patient' as categorical\n",
      "... storing 'stim' as categorical\n",
      "Observation names are not unique. To make them unique, call `.obs_names_make_unique`.\n"
     ]
    },
    {
     "name": "stdout",
     "output_type": "stream",
     "text": [
      "Corrected perio_data_sherlockIFNa_Tregs (CD25+FoxP3+)_train.h5ad and doms_concatenated_LPS_CD8 T-Cells.h5ad\n",
      "Corrected perio_data_sherlockIFNa_MDSCs (lin-CD11b-CD14+HLADRlo)_train.h5ad and doms_concatenated_IFNa_Tregs (CD25+FoxP3+).h5ad\n"
     ]
    },
    {
     "name": "stderr",
     "output_type": "stream",
     "text": [
      "Observation names are not unique. To make them unique, call `.obs_names_make_unique`.\n",
      "Observation names are not unique. To make them unique, call `.obs_names_make_unique`.\n",
      "Observation names are not unique. To make them unique, call `.obs_names_make_unique`.\n",
      "Observation names are not unique. To make them unique, call `.obs_names_make_unique`.\n",
      "Observation names are not unique. To make them unique, call `.obs_names_make_unique`.\n",
      "Observation names are not unique. To make them unique, call `.obs_names_make_unique`.\n",
      "Observation names are not unique. To make them unique, call `.obs_names_make_unique`.\n",
      "Observation names are not unique. To make them unique, call `.obs_names_make_unique`.\n",
      "Observation names are not unique. To make them unique, call `.obs_names_make_unique`.\n",
      "... storing 'drug' as categorical\n",
      "... storing 'drug' as categorical\n",
      "... storing 'cell_type' as categorical\n",
      "... storing 'patient' as categorical\n",
      "... storing 'stim' as categorical\n",
      "Observation names are not unique. To make them unique, call `.obs_names_make_unique`.\n",
      "Observation names are not unique. To make them unique, call `.obs_names_make_unique`.\n",
      "Observation names are not unique. To make them unique, call `.obs_names_make_unique`.\n",
      "Observation names are not unique. To make them unique, call `.obs_names_make_unique`.\n",
      "Observation names are not unique. To make them unique, call `.obs_names_make_unique`.\n",
      "Observation names are not unique. To make them unique, call `.obs_names_make_unique`.\n",
      "Observation names are not unique. To make them unique, call `.obs_names_make_unique`.\n",
      "Observation names are not unique. To make them unique, call `.obs_names_make_unique`.\n",
      "Observation names are not unique. To make them unique, call `.obs_names_make_unique`.\n",
      "Observation names are not unique. To make them unique, call `.obs_names_make_unique`.\n",
      "... storing 'drug' as categorical\n",
      "... storing 'drug' as categorical\n",
      "... storing 'cell_type' as categorical\n",
      "... storing 'patient' as categorical\n",
      "... storing 'stim' as categorical\n"
     ]
    },
    {
     "name": "stdout",
     "output_type": "stream",
     "text": [
      "Corrected perio_data_sherlockIFNa_CD56+CD16- NK Cells_train.h5ad and doms_concatenated_LPS_Granulocytes (CD45-CD66+).h5ad\n",
      "Corrected perio_data_sherlockP. gingivalis_Non-classical Monocytes (CD14-CD16+)_train.h5ad and doms_concatenated_LPS_CD8-CD4- T-Cells.h5ad\n"
     ]
    },
    {
     "name": "stderr",
     "output_type": "stream",
     "text": [
      "Observation names are not unique. To make them unique, call `.obs_names_make_unique`.\n",
      "Observation names are not unique. To make them unique, call `.obs_names_make_unique`.\n",
      "Observation names are not unique. To make them unique, call `.obs_names_make_unique`.\n",
      "Observation names are not unique. To make them unique, call `.obs_names_make_unique`.\n",
      "Observation names are not unique. To make them unique, call `.obs_names_make_unique`.\n",
      "Observation names are not unique. To make them unique, call `.obs_names_make_unique`.\n",
      "Observation names are not unique. To make them unique, call `.obs_names_make_unique`.\n",
      "Observation names are not unique. To make them unique, call `.obs_names_make_unique`.\n",
      "Observation names are not unique. To make them unique, call `.obs_names_make_unique`.\n",
      "Observation names are not unique. To make them unique, call `.obs_names_make_unique`.\n",
      "... storing 'drug' as categorical\n",
      "... storing 'drug' as categorical\n",
      "... storing 'cell_type' as categorical\n",
      "... storing 'patient' as categorical\n",
      "... storing 'stim' as categorical\n",
      "Observation names are not unique. To make them unique, call `.obs_names_make_unique`.\n",
      "Observation names are not unique. To make them unique, call `.obs_names_make_unique`.\n",
      "Observation names are not unique. To make them unique, call `.obs_names_make_unique`.\n",
      "Observation names are not unique. To make them unique, call `.obs_names_make_unique`.\n",
      "Observation names are not unique. To make them unique, call `.obs_names_make_unique`.\n",
      "Observation names are not unique. To make them unique, call `.obs_names_make_unique`.\n",
      "Observation names are not unique. To make them unique, call `.obs_names_make_unique`.\n",
      "Observation names are not unique. To make them unique, call `.obs_names_make_unique`.\n",
      "Observation names are not unique. To make them unique, call `.obs_names_make_unique`.\n",
      "Observation names are not unique. To make them unique, call `.obs_names_make_unique`.\n",
      "... storing 'drug' as categorical\n",
      "... storing 'drug' as categorical\n",
      "... storing 'cell_type' as categorical\n",
      "... storing 'patient' as categorical\n",
      "... storing 'stim' as categorical\n"
     ]
    },
    {
     "name": "stdout",
     "output_type": "stream",
     "text": [
      "Corrected perio_data_sherlockIFNa_Granulocytes (CD45-CD66+)_train.h5ad and doms_concatenated_LPS_CD56loCD16+NK Cells.h5ad\n",
      "Corrected perio_data_sherlockP. gingivalis_pDCs(CD123+HLADR+)_train.h5ad and doms_concatenated_IFNa_CD56+CD16- NK Cells.h5ad\n"
     ]
    },
    {
     "name": "stderr",
     "output_type": "stream",
     "text": [
      "Observation names are not unique. To make them unique, call `.obs_names_make_unique`.\n",
      "Observation names are not unique. To make them unique, call `.obs_names_make_unique`.\n",
      "Observation names are not unique. To make them unique, call `.obs_names_make_unique`.\n",
      "Observation names are not unique. To make them unique, call `.obs_names_make_unique`.\n",
      "Observation names are not unique. To make them unique, call `.obs_names_make_unique`.\n",
      "Observation names are not unique. To make them unique, call `.obs_names_make_unique`.\n",
      "Observation names are not unique. To make them unique, call `.obs_names_make_unique`.\n",
      "Observation names are not unique. To make them unique, call `.obs_names_make_unique`.\n",
      "Observation names are not unique. To make them unique, call `.obs_names_make_unique`.\n",
      "Observation names are not unique. To make them unique, call `.obs_names_make_unique`.\n",
      "... storing 'drug' as categorical\n",
      "... storing 'drug' as categorical\n",
      "... storing 'cell_type' as categorical\n",
      "... storing 'patient' as categorical\n",
      "... storing 'stim' as categorical\n"
     ]
    },
    {
     "name": "stdout",
     "output_type": "stream",
     "text": [
      "Corrected perio_data_sherlockP. gingivalis_CD8 T-Cells_train.h5ad and doms_concatenated_IFNa_Intermediate Monocytes (CD14+CD16+).h5ad\n"
     ]
    },
    {
     "name": "stderr",
     "output_type": "stream",
     "text": [
      "Observation names are not unique. To make them unique, call `.obs_names_make_unique`.\n",
      "Observation names are not unique. To make them unique, call `.obs_names_make_unique`.\n",
      "Observation names are not unique. To make them unique, call `.obs_names_make_unique`.\n",
      "Observation names are not unique. To make them unique, call `.obs_names_make_unique`.\n",
      "Observation names are not unique. To make them unique, call `.obs_names_make_unique`.\n",
      "Observation names are not unique. To make them unique, call `.obs_names_make_unique`.\n",
      "Observation names are not unique. To make them unique, call `.obs_names_make_unique`.\n",
      "Observation names are not unique. To make them unique, call `.obs_names_make_unique`.\n",
      "Observation names are not unique. To make them unique, call `.obs_names_make_unique`.\n",
      "Observation names are not unique. To make them unique, call `.obs_names_make_unique`.\n",
      "... storing 'drug' as categorical\n",
      "... storing 'drug' as categorical\n",
      "... storing 'cell_type' as categorical\n",
      "... storing 'patient' as categorical\n",
      "... storing 'stim' as categorical\n"
     ]
    },
    {
     "name": "stdout",
     "output_type": "stream",
     "text": [
      "Corrected perio_data_sherlockIFNa_CD4 T-Cells_train.h5ad and doms_concatenated_LPS_Non-classical Monocytes (CD14-CD16+).h5ad\n"
     ]
    }
   ],
   "source": [
    "directory_perio='perio_data_sherlock2'\n",
    "directory_surge='doms_concatenated'\n",
    "listfile_perio=[f for f in os.listdir(directory_perio) if 'TNFa' not in f]\n",
    "listfile_surge=os.listdir(directory_surge)\n",
    "for filename_perio,filename_surge in zip(listfile_perio,listfile_surge):\n",
    "    path_perio=os.path.join(directory_perio, filename_perio)\n",
    "    path_surge=os.path.join(directory_surge, filename_surge)\n",
    "    if 'LPS' in filename_surge:\n",
    "        batch_correction_combat(correspondence, path_perio, path_surge,'LPS')\n",
    "    else:\n",
    "        batch_correction_combat(correspondence, path_perio, path_surge,'IFNa')\n",
    "    print(f\"Corrected {filename_perio} and {filename_surge}\")"
   ]
  },
  {
   "cell_type": "code",
   "execution_count": 4,
   "id": "a483371d",
   "metadata": {},
   "outputs": [
    {
     "name": "stderr",
     "output_type": "stream",
     "text": [
      "Observation names are not unique. To make them unique, call `.obs_names_make_unique`.\n",
      "Observation names are not unique. To make them unique, call `.obs_names_make_unique`.\n",
      "Observation names are not unique. To make them unique, call `.obs_names_make_unique`.\n",
      "Observation names are not unique. To make them unique, call `.obs_names_make_unique`.\n",
      "Observation names are not unique. To make them unique, call `.obs_names_make_unique`.\n",
      "Observation names are not unique. To make them unique, call `.obs_names_make_unique`.\n",
      "Observation names are not unique. To make them unique, call `.obs_names_make_unique`.\n",
      "Observation names are not unique. To make them unique, call `.obs_names_make_unique`.\n",
      "Observation names are not unique. To make them unique, call `.obs_names_make_unique`.\n",
      "Observation names are not unique. To make them unique, call `.obs_names_make_unique`.\n",
      "... storing 'drug' as categorical\n",
      "... storing 'drug' as categorical\n",
      "... storing 'cell_type' as categorical\n",
      "... storing 'patient' as categorical\n",
      "... storing 'stim' as categorical\n"
     ]
    }
   ],
   "source": [
    "batch_correction_combat(correspondence, 'perio_data_sherlock2/perio_data_sherlockP. gingivalis_mDCs (CD11c+HLADR+)_train.h5ad', 'surge_concatenated/surge_concatenated_LPS_mDCs (CD11c+HLADR+).h5ad','LPS')"
   ]
  }
 ],
 "metadata": {
  "kernelspec": {
   "display_name": "combat_batch",
   "language": "python",
   "name": "python3"
  },
  "language_info": {
   "codemirror_mode": {
    "name": "ipython",
    "version": 3
   },
   "file_extension": ".py",
   "mimetype": "text/x-python",
   "name": "python",
   "nbconvert_exporter": "python",
   "pygments_lexer": "ipython3",
   "version": "3.9.19"
  }
 },
 "nbformat": 4,
 "nbformat_minor": 5
}
