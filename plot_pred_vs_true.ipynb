{
 "cells": [
  {
   "cell_type": "code",
   "execution_count": 3,
   "id": "0706685a",
   "metadata": {},
   "outputs": [],
   "source": [
    "import os\n",
    "import anndata as ad\n",
    "import pandas as pd\n",
    "import numpy as np\n",
    "import matplotlib.pyplot as plt\n",
    "import seaborn as sns"
   ]
  },
  {
   "cell_type": "code",
   "execution_count": 4,
   "id": "3de60ef2",
   "metadata": {},
   "outputs": [],
   "source": [
    "correspondence = {}\n",
    "correspondence['149Sm_CREB'] ='149Sm_pCREB'\n",
    "correspondence['167Er_ERK'] ='167Er_pERK12'\n",
    "correspondence['164Dy_IkB'] ='164Dy_IkB'\n",
    "correspondence['159Tb_MAPKAPK2'] ='159Tb_pMAPKAPK2'\n",
    "correspondence['166Er_NFkB'] ='166Er_pNFkB'\n",
    "correspondence['151Eu_p38'] ='151Eu_pp38'\n",
    "correspondence['155Gd_S6'] ='155Gd_pS6'\n",
    "correspondence['153Eu_STAT1'] ='153Eu_pSTAT1'\n",
    "correspondence['154Sm_STAT3'] ='154Sm_pSTAT3'\n",
    "correspondence['150Nd_STAT5'] ='150Nd_pSTAT5'\n",
    "correspondence['168Er_pSTAT6'] ='168Yb_pSTAT6'\n",
    "correspondence['174Yb_HLADR'] ='174Yb_HLADR'\n",
    "correspondence['169Tm_CD25'] ='169Tm_CD25'"
   ]
  },
  {
   "cell_type": "code",
   "execution_count": 16,
   "id": "3ebb7832",
   "metadata": {},
   "outputs": [],
   "source": [
    "def create_density_plots(dist_data, out_file, title_suffix=\"\"):\n",
    "    sns.set_theme(style=\"whitegrid\")\n",
    "    pts_sorted = sorted(dist_data.keys())\n",
    "\n",
    "    num_plots = len(pts_sorted)\n",
    "    cols = min(3, num_plots)\n",
    "    rows = int(np.ceil(num_plots / cols))\n",
    "\n",
    "    fig_width = max(5 * cols, 8)\n",
    "    fig_height = 5 * rows\n",
    "    fig, axes = plt.subplots(\n",
    "        rows, cols, figsize=(fig_width, fig_height), constrained_layout=True\n",
    "    )\n",
    "\n",
    "\n",
    "    if num_plots == 1:\n",
    "        axes = np.array([axes])\n",
    "\n",
    "    cat_labels = [\"Unstim surge\", 'Stim True surge',\"Stim pred surge\"]\n",
    "    cat_colors = [\"blue\", \"red\", \"green\"]\n",
    "\n",
    "    for i, (pt, ax) in enumerate(zip(pts_sorted, axes.flatten())):\n",
    "        for label, color in zip(cat_labels, cat_colors):\n",
    "            arr = dist_data[pt][label]\n",
    "            if arr.size > 0:\n",
    "                sns.kdeplot(\n",
    "                    arr,\n",
    "                    ax=ax,\n",
    "                    label=f\"{label} (n={arr.size})\",\n",
    "                    color=color,\n",
    "                    fill=False,  # set tot True to fill the area under the curve\n",
    "                    alpha=0.3,\n",
    "                )\n",
    "\n",
    "        ax.set_title(f\"Surge corrected prediction:\", fontsize=14)\n",
    "        ax.set_xlabel(\"Value\", fontsize=12)\n",
    "        ax.set_ylabel(\"Density\", fontsize=12)\n",
    "        ax.legend(fontsize=10)\n",
    "        ax.grid(True)\n",
    "    for j in range(i + 1, len(axes.flatten())):\n",
    "        fig.delaxes(axes.flatten()[j])\n",
    "\n",
    "    plt.savefig(out_file, dpi=200, bbox_inches=\"tight\")\n",
    "    plt.close()\n",
    "\n",
    "\n",
    "def plot_result(path_cohort_1, marker, outdir_path,doms_stim):\n",
    "    cohort1 = ad.read(path_cohort_1)\n",
    "    cohort1 = cohort1[:, marker].copy()\n",
    "    #doms_stim='P. gingivalis'\n",
    "    unstim = pd.Series(\n",
    "        cohort1[cohort1.obs[\"drug\"] == \"Unstim\"].X.flatten(), name=\"Unstim surge\"\n",
    "    )\n",
    "    stim_true = pd.Series(\n",
    "        cohort1[(cohort1.obs[\"drug\"] ==doms_stim) & (cohort1.obs[\"state\"] =='true_corrected')].X.flatten(), name=\"Stim True surge\"\n",
    "    )\n",
    "    stim_pred=pd.Series(\n",
    "        cohort1[(cohort1.obs[\"drug\"] ==doms_stim) & (cohort1.obs[\"state\"] =='predicted')].X.flatten(), name=\"Stim pred surge\"\n",
    "    )\n",
    "    \n",
    "    dist_data = {\n",
    "        \"Patient_1\": {\n",
    "            \"Unstim surge\": unstim.values,\n",
    "            \"Stim True surge\": stim_true.values,\n",
    "            \"Stim pred surge\": stim_pred.values,\n",
    "        }\n",
    "    }\n",
    "\n",
    "    create_density_plots(dist_data, outdir_path, title_suffix=\"\")\n",
    "    return\n"
   ]
  },
  {
   "cell_type": "code",
   "execution_count": 17,
   "id": "384501cb",
   "metadata": {},
   "outputs": [
    {
     "name": "stderr",
     "output_type": "stream",
     "text": [
      "Observation names are not unique. To make them unique, call `.obs_names_make_unique`.\n",
      "Observation names are not unique. To make them unique, call `.obs_names_make_unique`.\n",
      "Observation names are not unique. To make them unique, call `.obs_names_make_unique`.\n",
      "Observation names are not unique. To make them unique, call `.obs_names_make_unique`.\n"
     ]
    },
    {
     "name": "stdout",
     "output_type": "stream",
     "text": [
      "Plot 149Sm_pCREB for Classical Monocytes (CD14+CD16-) and LPS\n"
     ]
    },
    {
     "name": "stderr",
     "output_type": "stream",
     "text": [
      "Observation names are not unique. To make them unique, call `.obs_names_make_unique`.\n",
      "Observation names are not unique. To make them unique, call `.obs_names_make_unique`.\n"
     ]
    },
    {
     "name": "stdout",
     "output_type": "stream",
     "text": [
      "Plot 167Er_pERK12 for Classical Monocytes (CD14+CD16-) and LPS\n"
     ]
    },
    {
     "name": "stderr",
     "output_type": "stream",
     "text": [
      "Observation names are not unique. To make them unique, call `.obs_names_make_unique`.\n",
      "Observation names are not unique. To make them unique, call `.obs_names_make_unique`.\n"
     ]
    },
    {
     "name": "stdout",
     "output_type": "stream",
     "text": [
      "Plot 164Dy_IkB for Classical Monocytes (CD14+CD16-) and LPS\n"
     ]
    },
    {
     "name": "stderr",
     "output_type": "stream",
     "text": [
      "Observation names are not unique. To make them unique, call `.obs_names_make_unique`.\n",
      "Observation names are not unique. To make them unique, call `.obs_names_make_unique`.\n"
     ]
    },
    {
     "name": "stdout",
     "output_type": "stream",
     "text": [
      "Plot 159Tb_pMAPKAPK2 for Classical Monocytes (CD14+CD16-) and LPS\n"
     ]
    },
    {
     "name": "stderr",
     "output_type": "stream",
     "text": [
      "Observation names are not unique. To make them unique, call `.obs_names_make_unique`.\n",
      "Observation names are not unique. To make them unique, call `.obs_names_make_unique`.\n"
     ]
    },
    {
     "name": "stdout",
     "output_type": "stream",
     "text": [
      "Plot 166Er_pNFkB for Classical Monocytes (CD14+CD16-) and LPS\n"
     ]
    },
    {
     "name": "stderr",
     "output_type": "stream",
     "text": [
      "Observation names are not unique. To make them unique, call `.obs_names_make_unique`.\n",
      "Observation names are not unique. To make them unique, call `.obs_names_make_unique`.\n"
     ]
    },
    {
     "name": "stdout",
     "output_type": "stream",
     "text": [
      "Plot 151Eu_pp38 for Classical Monocytes (CD14+CD16-) and LPS\n"
     ]
    },
    {
     "name": "stderr",
     "output_type": "stream",
     "text": [
      "Observation names are not unique. To make them unique, call `.obs_names_make_unique`.\n",
      "Observation names are not unique. To make them unique, call `.obs_names_make_unique`.\n"
     ]
    },
    {
     "name": "stdout",
     "output_type": "stream",
     "text": [
      "Plot 155Gd_pS6 for Classical Monocytes (CD14+CD16-) and LPS\n"
     ]
    },
    {
     "name": "stderr",
     "output_type": "stream",
     "text": [
      "Observation names are not unique. To make them unique, call `.obs_names_make_unique`.\n",
      "Observation names are not unique. To make them unique, call `.obs_names_make_unique`.\n"
     ]
    },
    {
     "name": "stdout",
     "output_type": "stream",
     "text": [
      "Plot 153Eu_pSTAT1 for Classical Monocytes (CD14+CD16-) and LPS\n"
     ]
    },
    {
     "name": "stderr",
     "output_type": "stream",
     "text": [
      "Observation names are not unique. To make them unique, call `.obs_names_make_unique`.\n",
      "Observation names are not unique. To make them unique, call `.obs_names_make_unique`.\n"
     ]
    },
    {
     "name": "stdout",
     "output_type": "stream",
     "text": [
      "Plot 154Sm_pSTAT3 for Classical Monocytes (CD14+CD16-) and LPS\n"
     ]
    },
    {
     "name": "stderr",
     "output_type": "stream",
     "text": [
      "Observation names are not unique. To make them unique, call `.obs_names_make_unique`.\n",
      "Observation names are not unique. To make them unique, call `.obs_names_make_unique`.\n"
     ]
    },
    {
     "name": "stdout",
     "output_type": "stream",
     "text": [
      "Plot 150Nd_pSTAT5 for Classical Monocytes (CD14+CD16-) and LPS\n"
     ]
    },
    {
     "name": "stderr",
     "output_type": "stream",
     "text": [
      "Observation names are not unique. To make them unique, call `.obs_names_make_unique`.\n",
      "Observation names are not unique. To make them unique, call `.obs_names_make_unique`.\n"
     ]
    },
    {
     "name": "stdout",
     "output_type": "stream",
     "text": [
      "Plot 168Yb_pSTAT6 for Classical Monocytes (CD14+CD16-) and LPS\n"
     ]
    },
    {
     "name": "stderr",
     "output_type": "stream",
     "text": [
      "Observation names are not unique. To make them unique, call `.obs_names_make_unique`.\n",
      "Observation names are not unique. To make them unique, call `.obs_names_make_unique`.\n"
     ]
    },
    {
     "name": "stdout",
     "output_type": "stream",
     "text": [
      "Plot 174Yb_HLADR for Classical Monocytes (CD14+CD16-) and LPS\n",
      "Plot 169Tm_CD25 for Classical Monocytes (CD14+CD16-) and LPS\n"
     ]
    }
   ],
   "source": [
    "marker_list=['149Sm_pCREB', '167Er_pERK12', '164Dy_IkB', '159Tb_pMAPKAPK2',\n",
    "       '166Er_pNFkB', '151Eu_pp38', '155Gd_pS6', '153Eu_pSTAT1',\n",
    "       '154Sm_pSTAT3', '150Nd_pSTAT5', '168Yb_pSTAT6', '174Yb_HLADR',\n",
    "       '169Tm_CD25']\n",
    "features2 = ['149Sm_pCREB','159Tb_pMAPKAPK2','166Er_pNFkB','151Eu_pp38', '155Gd_pS6','153Eu_pSTAT1', '154Sm_pSTAT3','174Yb_HLADR']\n",
    "perio_stim_list_=['P._gingivalis']\n",
    "perio_cell_list_=['Granulocytes_(CD45-CD66+)','B-Cells_(CD19+CD3-)','Classical_Monocytes_(CD14+CD16-)','MDSCs_(lin-CD11b-CD14+HLADRlo)','mDCs_(CD11c+HLADR+)','pDCs(CD123+HLADR+)','Intermediate_Monocytes_(CD14+CD16+)','Non-classical_Monocytes_(CD14-CD16+)','CD56+CD16-_NK_Cells','CD56loCD16+NK_Cells','NK_Cells_(CD7+)','CD4_T-Cells','Tregs_(CD25+FoxP3+)','CD8_T-Cells','CD8-CD4-_T-Cells']\n",
    "cell_type='Classical Monocytes (CD14+CD16-)'\n",
    "stim='P._gingivalis'\n",
    "if [stim, cell_type] not in [['P._gingivalis', 'Non-classical_Monocytes_(CD14-CD16+)'],['P._gingivalis', 'NK_Cells_(CD7+)'],['TNFa', 'Granulocytes_(CD45-CD66+)']]:\n",
    "    for marker in marker_list:\n",
    "        if stim=='P._gingivalis':\n",
    "            doms_stim='LPS'\n",
    "        else:\n",
    "            doms_stim=stim\n",
    "    \n",
    "        \n",
    "        path_cohort_1='pred_surge_corrected_only_unstim.h5ad'\n",
    "        output_path = f\"plot_surge_dbl_corr_uns/{doms_stim}_{cell_type}_{marker}.png\"\n",
    "        \n",
    "        plot_result(path_cohort_1, marker, output_path,doms_stim)\n",
    "        print(f\"Plot {marker} for {cell_type} and {doms_stim}\")"
   ]
  }
 ],
 "metadata": {
  "kernelspec": {
   "display_name": "create_data_cellot",
   "language": "python",
   "name": "python3"
  },
  "language_info": {
   "codemirror_mode": {
    "name": "ipython",
    "version": 3
   },
   "file_extension": ".py",
   "mimetype": "text/x-python",
   "name": "python",
   "nbconvert_exporter": "python",
   "pygments_lexer": "ipython3",
   "version": "3.9.19"
  }
 },
 "nbformat": 4,
 "nbformat_minor": 5
}
