{
 "cells": [
  {
   "cell_type": "code",
   "execution_count": 1,
   "id": "40e58fb9",
   "metadata": {},
   "outputs": [],
   "source": [
    "import os\n",
    "import anndata as ad\n",
    "import pandas as pd\n",
    "import numpy as np\n",
    "import matplotlib.pyplot as plt\n",
    "import seaborn as sns"
   ]
  },
  {
   "cell_type": "code",
   "execution_count": null,
   "id": "3fadba88",
   "metadata": {},
   "outputs": [],
   "source": [
    "def create_density_plots(dist_data, out_file, title_suffix=\"\"):\n",
    "    sns.set_theme(style=\"whitegrid\")\n",
    "    pts_sorted = sorted(dist_data.keys())\n",
    "\n",
    "    num_plots = len(pts_sorted)\n",
    "    cols = min(3, num_plots)\n",
    "    rows = int(np.ceil(num_plots / cols))\n",
    "\n",
    "    fig_width = max(5 * cols, 8)\n",
    "    fig_height = 5 * rows\n",
    "    fig, axes = plt.subplots(\n",
    "        rows, cols, figsize=(fig_width, fig_height), constrained_layout=True\n",
    "    )\n",
    "\n",
    "    fig.suptitle(f\"Density Plots {title_suffix}\", fontsize=16)\n",
    "\n",
    "    if num_plots == 1:\n",
    "        axes = np.array([axes])\n",
    "\n",
    "    cat_labels = [\"Unstim\", \"Stim True\", \"Stim Pred\", \"Uncorr Untim\", \"Uncorr Stim\"]\n",
    "    cat_colors = [\"blue\", \"red\", \"green\", \"orange\", \"purple\"]\n",
    "\n",
    "    for i, (pt, ax) in enumerate(zip(pts_sorted, axes.flatten())):\n",
    "        for label, color in zip(cat_labels, cat_colors):\n",
    "            arr = dist_data[pt][label]\n",
    "            if arr.size > 0:\n",
    "                sns.kdeplot(\n",
    "                    arr,\n",
    "                    ax=ax,\n",
    "                    label=f\"{label} (n={arr.size})\",\n",
    "                    color=color,\n",
    "                    fill=False,  # set tot True to fill the area under the curve\n",
    "                    alpha=0.3,\n",
    "                )\n",
    "\n",
    "        ax.set_title(f\"Patient: {pt}\", fontsize=14)\n",
    "        ax.set_xlabel(\"Value\", fontsize=12)\n",
    "        ax.set_ylabel(\"Density\", fontsize=12)\n",
    "        ax.legend(fontsize=10)\n",
    "        ax.grid(True)\n",
    "    for j in range(i + 1, len(axes.flatten())):\n",
    "        fig.delaxes(axes.flatten()[j])\n",
    "\n",
    "    plt.savefig(out_file, dpi=200, bbox_inches=\"tight\")\n",
    "    plt.close()\n",
    "\n",
    "\n",
    "def plot_result(prediction_path, original_path, marker, outdir_path,doms_stim):\n",
    "    target = ad.read(prediction_path)\n",
    "    target1 = target[:, marker].copy()\n",
    "    stim = pd.Series(\n",
    "        target1[(target1.obs[\"drug\"] == doms_stim) & (target1.obs[\"state\"] == 'true_corrected')].X.flatten(), name=\"Stim True\"\n",
    "    )\n",
    "    unstim = pd.Series(\n",
    "        target1[target1.obs[\"drug\"] == \"Unstim\"].X.flatten(), name=\"Unstim\"\n",
    "    )\n",
    "    dataf = ad.read(original_path)\n",
    "    target2 = dataf[:, marker].copy()\n",
    "    og_uns=pd.Series(\n",
    "        target2[target2.obs[\"drug\"] == \"Unstim\"].X.flatten(), name=\"Uncorr Untim\"\n",
    "    )\n",
    "    og_stim=pd.Series(\n",
    "        target2[(target2.obs[\"drug\"] == doms_stim)].X.flatten(), name=\"Uncorr Stim\"\n",
    "    )\n",
    "    pred=pd.Series(\n",
    "        target1[(target1.obs[\"drug\"] == doms_stim) & (target1.obs[\"state\"] == 'predicted')].X.flatten(), name=\"Stim Pred\"\n",
    "    )\n",
    "    dist_data = {\n",
    "        \"Patient_1\": {\n",
    "            \"Stim True\": stim.values,\n",
    "            \"Stim Pred\": pred,\n",
    "            \"Unstim\": unstim.values,\n",
    "            'Uncorr Untim': og_uns.values,\n",
    "            'Uncorr Stim': og_stim.values\n",
    "        }\n",
    "    }\n",
    "\n",
    "    create_density_plots(dist_data, outdir_path, title_suffix=\"\")\n",
    "    return"
   ]
  },
  {
   "cell_type": "code",
   "execution_count": 22,
   "id": "437bd907",
   "metadata": {},
   "outputs": [
    {
     "name": "stderr",
     "output_type": "stream",
     "text": [
      "Observation names are not unique. To make them unique, call `.obs_names_make_unique`.\n",
      "Observation names are not unique. To make them unique, call `.obs_names_make_unique`.\n",
      "Observation names are not unique. To make them unique, call `.obs_names_make_unique`.\n",
      "Observation names are not unique. To make them unique, call `.obs_names_make_unique`.\n",
      "Observation names are not unique. To make them unique, call `.obs_names_make_unique`.\n",
      "Observation names are not unique. To make them unique, call `.obs_names_make_unique`.\n"
     ]
    },
    {
     "name": "stdout",
     "output_type": "stream",
     "text": [
      "Plot 149Sm_pCREB for B-Cells_(CD19+CD3-) and LPS\n"
     ]
    },
    {
     "name": "stderr",
     "output_type": "stream",
     "text": [
      "Observation names are not unique. To make them unique, call `.obs_names_make_unique`.\n",
      "Observation names are not unique. To make them unique, call `.obs_names_make_unique`.\n",
      "Observation names are not unique. To make them unique, call `.obs_names_make_unique`.\n",
      "Observation names are not unique. To make them unique, call `.obs_names_make_unique`.\n"
     ]
    },
    {
     "name": "stdout",
     "output_type": "stream",
     "text": [
      "Plot 167Er_pERK12 for B-Cells_(CD19+CD3-) and LPS\n"
     ]
    },
    {
     "name": "stderr",
     "output_type": "stream",
     "text": [
      "Observation names are not unique. To make them unique, call `.obs_names_make_unique`.\n",
      "Observation names are not unique. To make them unique, call `.obs_names_make_unique`.\n",
      "Observation names are not unique. To make them unique, call `.obs_names_make_unique`.\n",
      "Observation names are not unique. To make them unique, call `.obs_names_make_unique`.\n"
     ]
    },
    {
     "name": "stdout",
     "output_type": "stream",
     "text": [
      "Plot 164Dy_IkB for B-Cells_(CD19+CD3-) and LPS\n"
     ]
    },
    {
     "name": "stderr",
     "output_type": "stream",
     "text": [
      "Observation names are not unique. To make them unique, call `.obs_names_make_unique`.\n",
      "Observation names are not unique. To make them unique, call `.obs_names_make_unique`.\n",
      "Observation names are not unique. To make them unique, call `.obs_names_make_unique`.\n",
      "Observation names are not unique. To make them unique, call `.obs_names_make_unique`.\n"
     ]
    },
    {
     "name": "stdout",
     "output_type": "stream",
     "text": [
      "Plot 159Tb_pMAPKAPK2 for B-Cells_(CD19+CD3-) and LPS\n"
     ]
    },
    {
     "name": "stderr",
     "output_type": "stream",
     "text": [
      "Observation names are not unique. To make them unique, call `.obs_names_make_unique`.\n",
      "Observation names are not unique. To make them unique, call `.obs_names_make_unique`.\n",
      "Observation names are not unique. To make them unique, call `.obs_names_make_unique`.\n",
      "Observation names are not unique. To make them unique, call `.obs_names_make_unique`.\n"
     ]
    },
    {
     "name": "stdout",
     "output_type": "stream",
     "text": [
      "Plot 166Er_pNFkB for B-Cells_(CD19+CD3-) and LPS\n"
     ]
    },
    {
     "name": "stderr",
     "output_type": "stream",
     "text": [
      "Observation names are not unique. To make them unique, call `.obs_names_make_unique`.\n",
      "Observation names are not unique. To make them unique, call `.obs_names_make_unique`.\n",
      "Observation names are not unique. To make them unique, call `.obs_names_make_unique`.\n",
      "Observation names are not unique. To make them unique, call `.obs_names_make_unique`.\n"
     ]
    },
    {
     "name": "stdout",
     "output_type": "stream",
     "text": [
      "Plot 151Eu_pp38 for B-Cells_(CD19+CD3-) and LPS\n"
     ]
    },
    {
     "name": "stderr",
     "output_type": "stream",
     "text": [
      "Observation names are not unique. To make them unique, call `.obs_names_make_unique`.\n",
      "Observation names are not unique. To make them unique, call `.obs_names_make_unique`.\n",
      "Observation names are not unique. To make them unique, call `.obs_names_make_unique`.\n",
      "Observation names are not unique. To make them unique, call `.obs_names_make_unique`.\n"
     ]
    },
    {
     "name": "stdout",
     "output_type": "stream",
     "text": [
      "Plot 155Gd_pS6 for B-Cells_(CD19+CD3-) and LPS\n"
     ]
    },
    {
     "name": "stderr",
     "output_type": "stream",
     "text": [
      "Observation names are not unique. To make them unique, call `.obs_names_make_unique`.\n",
      "Observation names are not unique. To make them unique, call `.obs_names_make_unique`.\n",
      "Observation names are not unique. To make them unique, call `.obs_names_make_unique`.\n",
      "Observation names are not unique. To make them unique, call `.obs_names_make_unique`.\n"
     ]
    },
    {
     "name": "stdout",
     "output_type": "stream",
     "text": [
      "Plot 153Eu_pSTAT1 for B-Cells_(CD19+CD3-) and LPS\n"
     ]
    },
    {
     "name": "stderr",
     "output_type": "stream",
     "text": [
      "Observation names are not unique. To make them unique, call `.obs_names_make_unique`.\n",
      "Observation names are not unique. To make them unique, call `.obs_names_make_unique`.\n",
      "Observation names are not unique. To make them unique, call `.obs_names_make_unique`.\n",
      "Observation names are not unique. To make them unique, call `.obs_names_make_unique`.\n"
     ]
    },
    {
     "name": "stdout",
     "output_type": "stream",
     "text": [
      "Plot 154Sm_pSTAT3 for B-Cells_(CD19+CD3-) and LPS\n"
     ]
    },
    {
     "name": "stderr",
     "output_type": "stream",
     "text": [
      "Observation names are not unique. To make them unique, call `.obs_names_make_unique`.\n",
      "Observation names are not unique. To make them unique, call `.obs_names_make_unique`.\n",
      "Observation names are not unique. To make them unique, call `.obs_names_make_unique`.\n",
      "Observation names are not unique. To make them unique, call `.obs_names_make_unique`.\n"
     ]
    },
    {
     "name": "stdout",
     "output_type": "stream",
     "text": [
      "Plot 150Nd_pSTAT5 for B-Cells_(CD19+CD3-) and LPS\n"
     ]
    },
    {
     "name": "stderr",
     "output_type": "stream",
     "text": [
      "Observation names are not unique. To make them unique, call `.obs_names_make_unique`.\n",
      "Observation names are not unique. To make them unique, call `.obs_names_make_unique`.\n",
      "Observation names are not unique. To make them unique, call `.obs_names_make_unique`.\n",
      "Observation names are not unique. To make them unique, call `.obs_names_make_unique`.\n"
     ]
    },
    {
     "name": "stdout",
     "output_type": "stream",
     "text": [
      "Plot 168Yb_pSTAT6 for B-Cells_(CD19+CD3-) and LPS\n"
     ]
    },
    {
     "name": "stderr",
     "output_type": "stream",
     "text": [
      "Observation names are not unique. To make them unique, call `.obs_names_make_unique`.\n",
      "Observation names are not unique. To make them unique, call `.obs_names_make_unique`.\n",
      "Observation names are not unique. To make them unique, call `.obs_names_make_unique`.\n",
      "Observation names are not unique. To make them unique, call `.obs_names_make_unique`.\n"
     ]
    },
    {
     "name": "stdout",
     "output_type": "stream",
     "text": [
      "Plot 174Yb_HLADR for B-Cells_(CD19+CD3-) and LPS\n"
     ]
    },
    {
     "name": "stderr",
     "output_type": "stream",
     "text": [
      "Observation names are not unique. To make them unique, call `.obs_names_make_unique`.\n",
      "Observation names are not unique. To make them unique, call `.obs_names_make_unique`.\n"
     ]
    },
    {
     "name": "stdout",
     "output_type": "stream",
     "text": [
      "Plot 169Tm_CD25 for B-Cells_(CD19+CD3-) and LPS\n"
     ]
    }
   ],
   "source": [
    "marker_list=['149Sm_pCREB', '167Er_pERK12', '164Dy_IkB', '159Tb_pMAPKAPK2', '166Er_pNFkB', '151Eu_pp38','155Gd_pS6', '153Eu_pSTAT1', '154Sm_pSTAT3', '150Nd_pSTAT5', '168Yb_pSTAT6', '174Yb_HLADR', '169Tm_CD25']\n",
    "perio_stim_list_=['TNFa','P._gingivalis']\n",
    "perio_cell_list_=['Granulocytes_(CD45-CD66+)','B-Cells_(CD19+CD3-)','Classical_Monocytes_(CD14+CD16-)','MDSCs_(lin-CD11b-CD14+HLADRlo)','mDCs_(CD11c+HLADR+)','pDCs(CD123+HLADR+)','Intermediate_Monocytes_(CD14+CD16+)','Non-classical_Monocytes_(CD14-CD16+)','CD56+CD16-_NK_Cells','CD56loCD16+NK_Cells','NK_Cells_(CD7+)','CD4_T-Cells','Tregs_(CD25+FoxP3+)','CD8_T-Cells','CD8-CD4-_T-Cells']\n",
    "cell_type='B-Cells_(CD19+CD3-)'\n",
    "stim='P._gingivalis'\n",
    "if [stim, cell_type] not in [['P._gingivalis', 'Non-classical_Monocytes_(CD14-CD16+)'],['P._gingivalis', 'NK_Cells_(CD7+)'],['TNFa', 'Granulocytes_(CD45-CD66+)']]:\n",
    "    for marker in marker_list:\n",
    "        if stim=='P._gingivalis':\n",
    "            doms_stim='LPS'\n",
    "        else:\n",
    "            doms_stim=stim\n",
    "    \n",
    "        prediction_path = f\"pred_surge_correctedCMC.h5ad\"\n",
    "        original_path=\"surge_concatenated/surge_concatenated_LPS_Classical Monocytes (CD14+CD16-).h5ad\"\n",
    "        output_path = f\"plot_batchcorr/{doms_stim}_{cell_type}_{marker}_surge.png\"\n",
    "        \n",
    "        plot_result(prediction_path,original_path,marker,output_path,doms_stim)\n",
    "        print(f\"Plot {marker} for {cell_type} and {doms_stim}\")"
   ]
  },
  {
   "cell_type": "code",
   "execution_count": 35,
   "id": "37f72281",
   "metadata": {},
   "outputs": [],
   "source": [
    "def create_density_plots2(dist_data, out_file, title_suffix=\"\"):\n",
    "    sns.set_theme(style=\"whitegrid\")\n",
    "    pts_sorted = sorted(dist_data.keys())\n",
    "\n",
    "    num_plots = len(pts_sorted)\n",
    "    cols = min(3, num_plots)\n",
    "    rows = int(np.ceil(num_plots / cols))\n",
    "\n",
    "    fig_width = max(5 * cols, 8)\n",
    "    fig_height = 5 * rows\n",
    "    fig, axes = plt.subplots(\n",
    "        rows, cols, figsize=(fig_width, fig_height), constrained_layout=True\n",
    "    )\n",
    "\n",
    "    fig.suptitle(f\"Density Plots {title_suffix}\", fontsize=16)\n",
    "\n",
    "    if num_plots == 1:\n",
    "        axes = np.array([axes])\n",
    "\n",
    "    cat_labels = [\"Unstim surge\", \"Stim True surge\", \"Stim Pred surge\", \"Uncorr Untim surge\", \"Uncorr Stim surge\", \"Unstim perio\", \"Stim True perio\", \"Uncorr Untim perio\", \"Uncorr Stim perio\"]\n",
    "    cat_colors = [\"blue\", \"red\", \"green\", \"orange\", \"purple\", \"cyan\", \"magenta\", \"yellow\", \"black\"]\n",
    "\n",
    "    for i, (pt, ax) in enumerate(zip(pts_sorted, axes.flatten())):\n",
    "        for label, color in zip(cat_labels, cat_colors):\n",
    "            arr = dist_data[pt][label]\n",
    "            if arr.size > 0:\n",
    "                sns.kdeplot(\n",
    "                    arr,\n",
    "                    ax=ax,\n",
    "                    label=f\"{label} (n={arr.size})\",\n",
    "                    color=color,\n",
    "                    fill=False,  # set tot True to fill the area under the curve\n",
    "                    alpha=0.3,\n",
    "                )\n",
    "\n",
    "        ax.set_title(f\"Patient: {pt}\", fontsize=14)\n",
    "        ax.set_xlabel(\"Value\", fontsize=12)\n",
    "        ax.set_ylabel(\"Density\", fontsize=12)\n",
    "        ax.legend(fontsize=10)\n",
    "        ax.grid(True)\n",
    "    for j in range(i + 1, len(axes.flatten())):\n",
    "        fig.delaxes(axes.flatten()[j])\n",
    "\n",
    "    plt.savefig(out_file, dpi=200, bbox_inches=\"tight\")\n",
    "    plt.close()\n",
    "\n",
    "\n",
    "def plot_result2(prediction_path, original_path, marker, outdir_path,doms_stim,perio_ogPath,perio_predPath,marker2):\n",
    "    target = ad.read(prediction_path)\n",
    "    target1 = target[:, marker].copy()\n",
    "    stim = pd.Series(\n",
    "        target1[(target1.obs[\"drug\"] == doms_stim) & (target1.obs[\"state\"] == 'true_corrected')].X.flatten(), name=\"Stim True surge\"\n",
    "    )\n",
    "    unstim = pd.Series(\n",
    "        target1[target1.obs[\"drug\"] == \"Unstim\"].X.flatten(), name=\"Unstim surge\"\n",
    "    )\n",
    "    dataf = ad.read(original_path)\n",
    "    target2 = dataf[:, marker].copy()\n",
    "    og_uns=pd.Series(\n",
    "        target2[target2.obs[\"drug\"] == \"Unstim\"].X.flatten(), name=\"Uncorr Untim surge\"\n",
    "    )\n",
    "    og_stim=pd.Series(\n",
    "        target2[(target2.obs[\"drug\"] == doms_stim)].X.flatten(), name=\"Uncorr Stim surge\"\n",
    "    )\n",
    "    pred=pd.Series(\n",
    "        target1[target1.obs[\"drug\"] == doms_stim].X.flatten(), name=\"Stim Pred surge\"\n",
    "    )\n",
    "    targetp = ad.read(perio_predPath)\n",
    "    target3 = targetp[:, marker].copy()\n",
    "    stimperio = pd.Series(\n",
    "        target3[target3.obs[\"drug\"] == 'P. gingivalis'].X.flatten(), name=\"Stim True perio\"\n",
    "    )\n",
    "    unstimperio = pd.Series(\n",
    "        target3[target3.obs[\"drug\"] == \"Unstim\"].X.flatten(), name=\"Unstim perio\"\n",
    "    )\n",
    "    dataf3 = ad.read(perio_ogPath)\n",
    "    target4 = dataf3[:, marker2].copy()\n",
    "    og_unsperio=pd.Series(\n",
    "        target4[target4.obs[\"drug\"] == \"Unstim\"].X.flatten(), name=\"Uncorr Untim perio\"\n",
    "    )\n",
    "    og_stimperio=pd.Series(\n",
    "        target4[(target4.obs[\"drug\"] == 'P. gingivalis')].X.flatten(), name=\"Uncorr Stim perio\"\n",
    "    )\n",
    "    dist_data = {\n",
    "        \"Patient_1\": {\n",
    "            \"Stim True surge\": stim.values,\n",
    "            \"Stim Pred surge\": pred,\n",
    "            \"Unstim surge\": unstim.values,\n",
    "            'Uncorr Untim surge': og_uns.values,\n",
    "            'Uncorr Stim surge': og_stim.values,\n",
    "            \"Stim True perio\": stimperio.values,\n",
    "            \"Unstim perio\": unstimperio,\n",
    "            \"Uncorr Untim perio\": og_unsperio.values,\n",
    "            \"Uncorr Stim perio\": og_stimperio.values,\n",
    "        }\n",
    "    }\n",
    "\n",
    "    create_density_plots2(dist_data, outdir_path, title_suffix=\"\")\n",
    "    return"
   ]
  },
  {
   "cell_type": "code",
   "execution_count": 38,
   "id": "55d49378",
   "metadata": {},
   "outputs": [
    {
     "name": "stderr",
     "output_type": "stream",
     "text": [
      "Observation names are not unique. To make them unique, call `.obs_names_make_unique`.\n",
      "Observation names are not unique. To make them unique, call `.obs_names_make_unique`.\n",
      "Observation names are not unique. To make them unique, call `.obs_names_make_unique`.\n",
      "Observation names are not unique. To make them unique, call `.obs_names_make_unique`.\n",
      "Observation names are not unique. To make them unique, call `.obs_names_make_unique`.\n",
      "Observation names are not unique. To make them unique, call `.obs_names_make_unique`.\n",
      "Observation names are not unique. To make them unique, call `.obs_names_make_unique`.\n",
      "Observation names are not unique. To make them unique, call `.obs_names_make_unique`.\n",
      "Observation names are not unique. To make them unique, call `.obs_names_make_unique`.\n",
      "Observation names are not unique. To make them unique, call `.obs_names_make_unique`.\n"
     ]
    },
    {
     "name": "stdout",
     "output_type": "stream",
     "text": [
      "Plot 149Sm_pCREB for CMC and LPS\n"
     ]
    },
    {
     "name": "stderr",
     "output_type": "stream",
     "text": [
      "Observation names are not unique. To make them unique, call `.obs_names_make_unique`.\n",
      "Observation names are not unique. To make them unique, call `.obs_names_make_unique`.\n",
      "Observation names are not unique. To make them unique, call `.obs_names_make_unique`.\n",
      "Observation names are not unique. To make them unique, call `.obs_names_make_unique`.\n",
      "Observation names are not unique. To make them unique, call `.obs_names_make_unique`.\n",
      "Observation names are not unique. To make them unique, call `.obs_names_make_unique`.\n",
      "Observation names are not unique. To make them unique, call `.obs_names_make_unique`.\n",
      "Observation names are not unique. To make them unique, call `.obs_names_make_unique`.\n"
     ]
    },
    {
     "name": "stdout",
     "output_type": "stream",
     "text": [
      "Plot 159Tb_pMAPKAPK2 for CMC and LPS\n"
     ]
    },
    {
     "name": "stderr",
     "output_type": "stream",
     "text": [
      "Observation names are not unique. To make them unique, call `.obs_names_make_unique`.\n",
      "Observation names are not unique. To make them unique, call `.obs_names_make_unique`.\n",
      "Observation names are not unique. To make them unique, call `.obs_names_make_unique`.\n",
      "Observation names are not unique. To make them unique, call `.obs_names_make_unique`.\n",
      "Observation names are not unique. To make them unique, call `.obs_names_make_unique`.\n",
      "Observation names are not unique. To make them unique, call `.obs_names_make_unique`.\n",
      "Observation names are not unique. To make them unique, call `.obs_names_make_unique`.\n",
      "Observation names are not unique. To make them unique, call `.obs_names_make_unique`.\n"
     ]
    },
    {
     "name": "stdout",
     "output_type": "stream",
     "text": [
      "Plot 151Eu_pp38 for CMC and LPS\n"
     ]
    },
    {
     "name": "stderr",
     "output_type": "stream",
     "text": [
      "Observation names are not unique. To make them unique, call `.obs_names_make_unique`.\n",
      "Observation names are not unique. To make them unique, call `.obs_names_make_unique`.\n",
      "Observation names are not unique. To make them unique, call `.obs_names_make_unique`.\n",
      "Observation names are not unique. To make them unique, call `.obs_names_make_unique`.\n",
      "Observation names are not unique. To make them unique, call `.obs_names_make_unique`.\n",
      "Observation names are not unique. To make them unique, call `.obs_names_make_unique`.\n",
      "Observation names are not unique. To make them unique, call `.obs_names_make_unique`.\n",
      "Observation names are not unique. To make them unique, call `.obs_names_make_unique`.\n"
     ]
    },
    {
     "name": "stdout",
     "output_type": "stream",
     "text": [
      "Plot 155Gd_pS6 for CMC and LPS\n"
     ]
    },
    {
     "name": "stderr",
     "output_type": "stream",
     "text": [
      "Observation names are not unique. To make them unique, call `.obs_names_make_unique`.\n",
      "Observation names are not unique. To make them unique, call `.obs_names_make_unique`.\n",
      "Observation names are not unique. To make them unique, call `.obs_names_make_unique`.\n",
      "Observation names are not unique. To make them unique, call `.obs_names_make_unique`.\n",
      "Observation names are not unique. To make them unique, call `.obs_names_make_unique`.\n",
      "Observation names are not unique. To make them unique, call `.obs_names_make_unique`.\n"
     ]
    },
    {
     "name": "stdout",
     "output_type": "stream",
     "text": [
      "Plot 169Tm_CD25 for CMC and LPS\n"
     ]
    }
   ],
   "source": [
    "marker_list=['149Sm_pCREB','159Tb_pMAPKAPK2', '151Eu_pp38','155Gd_pS6','169Tm_CD25']\n",
    "correspondence={\n",
    "    '149Sm_pCREB':'149Sm_CREB',\n",
    "    '159Tb_pMAPKAPK2':'159Tb_MAPKAPK2',\n",
    "    '151Eu_pp38':'151Eu_p38',\n",
    "    '155Gd_pS6':'155Gd_S6',\n",
    "    '169Tm_CD25':'169Tm_CD25'}\n",
    "perio_stim_list_=['TNFa','P._gingivalis']\n",
    "perio_cell_list_=['Granulocytes_(CD45-CD66+)','B-Cells_(CD19+CD3-)','Classical_Monocytes_(CD14+CD16-)','MDSCs_(lin-CD11b-CD14+HLADRlo)','mDCs_(CD11c+HLADR+)','pDCs(CD123+HLADR+)','Intermediate_Monocytes_(CD14+CD16+)','Non-classical_Monocytes_(CD14-CD16+)','CD56+CD16-_NK_Cells','CD56loCD16+NK_Cells','NK_Cells_(CD7+)','CD4_T-Cells','Tregs_(CD25+FoxP3+)','CD8_T-Cells','CD8-CD4-_T-Cells']\n",
    "cell_type='CMC'\n",
    "stim='P._gingivalis'\n",
    "if [stim, cell_type] not in [['P._gingivalis', 'Non-classical_Monocytes_(CD14-CD16+)'],['P._gingivalis', 'NK_Cells_(CD7+)'],['TNFa', 'Granulocytes_(CD45-CD66+)']]:\n",
    "    for marker in marker_list:\n",
    "        if stim=='P._gingivalis':\n",
    "            doms_stim='LPS'\n",
    "        else:\n",
    "            doms_stim=stim\n",
    "    \n",
    "        prediction_path = f\"pred_surge_corrected_dbl.h5ad\"\n",
    "        original_path=\"surge_concatenated/surge_concatenated_LPS_Classical Monocytes (CD14+CD16-).h5ad\"\n",
    "        output_path = f\"plot_batchcorr_dbl_periopred/{doms_stim}_{cell_type}_{marker}_surge.png\"\n",
    "        perio_ogPath='perio_with_patient/perio_data_sherlockP._gingivalis_Classical_Monocytes_(CD14+CD16-).h5ad'\n",
    "        perio_predPath='pred_perio_corrected_dbl.h5ad'\n",
    "        marker2=correspondence[marker]\n",
    "        plot_result2(prediction_path,original_path,marker,output_path,doms_stim,perio_ogPath,perio_predPath,marker2)\n",
    "        print(f\"Plot {marker} for {cell_type} and {doms_stim}\")"
   ]
  }
 ],
 "metadata": {
  "kernelspec": {
   "display_name": "create_data_cellot",
   "language": "python",
   "name": "python3"
  },
  "language_info": {
   "codemirror_mode": {
    "name": "ipython",
    "version": 3
   },
   "file_extension": ".py",
   "mimetype": "text/x-python",
   "name": "python",
   "nbconvert_exporter": "python",
   "pygments_lexer": "ipython3",
   "version": "3.9.19"
  }
 },
 "nbformat": 4,
 "nbformat_minor": 5
}
