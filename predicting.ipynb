{
 "cells": [
  {
   "cell_type": "markdown",
   "metadata": {},
   "source": [
    "### Import some librairies"
   ]
  },
  {
   "cell_type": "code",
   "execution_count": null,
   "metadata": {},
   "outputs": [],
   "source": [
    "import os\n",
    "import anndata\n",
    "import pandas as pd\n",
    "import anndata as ad\n",
    "import torch\n",
    "from cellot.utils.helpers import load_config\n",
    "from cellot.utils.loaders import load\n",
    "from torch.utils.data import DataLoader"
   ]
  },
  {
   "cell_type": "markdown",
   "metadata": {},
   "source": [
    "### Load the model to predict\n"
   ]
  },
  {
   "cell_type": "code",
   "execution_count": 142,
   "metadata": {},
   "outputs": [
    {
     "name": "stdout",
     "output_type": "stream",
     "text": [
      "source Unstim_Bcell\n",
      "target Stim_1_Bcell\n",
      "{'Unstim_Bcell': 'source', 'Stim_1_Bcell': 'target'}\n"
     ]
    }
   ],
   "source": [
    "config = load_config('/Users/MacBook/stanford/cellot/results/test_new/model-cellot/config.yaml')\n",
    "chkpt='/Users/MacBook/stanford/cellot/results/test_new/model-cellot/cache/model.pt'\n",
    "\n",
    "(f, g), opts,loader=load(config, restore=chkpt)"
   ]
  },
  {
   "cell_type": "markdown",
   "metadata": {},
   "source": [
    "### first method: same as in the training/evaluating"
   ]
  },
  {
   "cell_type": "code",
   "execution_count": 143,
   "metadata": {},
   "outputs": [],
   "source": [
    "from cellot.data.cell import read_list\n",
    "from cellot.data.cell import AnnDataDataset\n",
    "unstim_data_path = \"/Users/MacBook/stanford/cellot/datasets/atest_data/unstim_Bcell_to_predict.h5ad\"\n",
    "unstim_anndata_to_predict = ad.read(unstim_data_path)\n",
    "features = read_list(config.data.features)\n",
    "unstim_anndata_to_predict = unstim_anndata_to_predict[:, features].copy()\n",
    "\n",
    "dataset_args = {}\n",
    "dataset2 = AnnDataDataset(unstim_anndata_to_predict.copy(), **dataset_args)\n",
    "\n",
    "g.eval()\n",
    "loader = DataLoader(dataset2, batch_size=len(dataset2), shuffle=False)\n",
    "inputs = next(iter(loader))\n",
    "outputs = g.transport(inputs.requires_grad_(True)).detach().numpy()\n",
    "predicted_df2=anndata.AnnData(\n",
    "            outputs,\n",
    "            obs=dataset2.adata.obs.copy(),\n",
    "            var=dataset2.adata.var.copy(),\n",
    "        ).to_df()"
   ]
  },
  {
   "cell_type": "markdown",
   "metadata": {},
   "source": [
    "### 2nd method: predict using torch (gives the same result)"
   ]
  },
  {
   "cell_type": "code",
   "execution_count": null,
   "metadata": {},
   "outputs": [
    {
     "name": "stdout",
     "output_type": "stream",
     "text": [
      "source Unstim_Bcell\n",
      "target Stim_1_Bcell\n",
      "{'Unstim_Bcell': 'source', 'Stim_1_Bcell': 'target'}\n"
     ]
    }
   ],
   "source": [
    "def predict_from_unstim_data(result_path, unstim_data_path, output_path):\n",
    "    config_path = os.path.join(result_path, \"config.yaml\")\n",
    "    chkpt = os.path.join(result_path, \"cache/model.pt\")\n",
    "\n",
    "    # load the config and then the model (f,g)\n",
    "    config = load_config(config_path)\n",
    "    (f, g), opts, loader = load(config, restore=chkpt)\n",
    "    g.eval()\n",
    "    # load the data to predict and filter with the interzsting markers\n",
    "    unstim_anndata_to_predict = ad.read(unstim_data_path)\n",
    "    features = read_list(config.data.features)\n",
    "    unstim_anndata_to_predict = unstim_anndata_to_predict[:, features].copy()\n",
    "\n",
    "    # predict the data\n",
    "    source_tensor = torch.tensor(unstim_anndata_to_predict.X, dtype=torch.float32).requires_grad_(True)\n",
    "    transported_tensor = g.transport(source_tensor)\n",
    "    transported_tensor = transported_tensor.detach()\n",
    "    prediction = pd.DataFrame(transported_tensor.numpy())\n",
    "\n",
    "    return prediction\n",
    "\n",
    "\n",
    "result_path = \"/Users/MacBook/stanford/cellot/results/test_new/model-cellot\"\n",
    "unstim_data_path = (\n",
    "    \"/Users/MacBook/stanford/cellot/datasets/atest_data/unstim_Bcell_to_predict.h5ad\"\n",
    ")\n",
    "output_path = \"/Users/MacBook/stanford/cellot/datasets/atest_data/prediction2.csv\"\n",
    "pred2=predict_from_unstim_data(result_path, unstim_data_path, output_path)"
   ]
  }
 ],
 "metadata": {
  "kernelspec": {
   "display_name": "cellot",
   "language": "python",
   "name": "python3"
  },
  "language_info": {
   "codemirror_mode": {
    "name": "ipython",
    "version": 3
   },
   "file_extension": ".py",
   "mimetype": "text/x-python",
   "name": "python",
   "nbconvert_exporter": "python",
   "pygments_lexer": "ipython3",
   "version": "3.9.5"
  }
 },
 "nbformat": 4,
 "nbformat_minor": 2
}
