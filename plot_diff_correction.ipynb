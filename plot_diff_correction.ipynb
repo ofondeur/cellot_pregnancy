{
 "cells": [
  {
   "cell_type": "code",
   "execution_count": 2,
   "id": "2071c9c4",
   "metadata": {},
   "outputs": [],
   "source": [
    "import os\n",
    "import anndata as ad\n",
    "import pandas as pd\n",
    "import numpy as np\n",
    "import matplotlib.pyplot as plt\n",
    "import seaborn as sns"
   ]
  },
  {
   "cell_type": "code",
   "execution_count": 18,
   "id": "37ded871",
   "metadata": {},
   "outputs": [],
   "source": [
    "correspondence = {}\n",
    "correspondence['149Sm_CREB'] ='149Sm_pCREB'\n",
    "correspondence['167Er_ERK'] ='167Er_pERK12'\n",
    "correspondence['164Dy_IkB'] ='164Dy_IkB'\n",
    "correspondence['159Tb_MAPKAPK2'] ='159Tb_pMAPKAPK2'\n",
    "correspondence['166Er_NFkB'] ='166Er_pNFkB'\n",
    "correspondence['151Eu_p38'] ='151Eu_pp38'\n",
    "correspondence['155Gd_S6'] ='155Gd_pS6'\n",
    "correspondence['153Eu_STAT1'] ='153Eu_pSTAT1'\n",
    "correspondence['154Sm_STAT3'] ='154Sm_pSTAT3'\n",
    "correspondence['150Nd_STAT5'] ='150Nd_pSTAT5'\n",
    "correspondence['168Er_pSTAT6'] ='168Yb_pSTAT6'\n",
    "correspondence['174Yb_HLADR'] ='174Yb_HLADR'\n",
    "correspondence['169Tm_CD25'] ='169Tm_CD25'"
   ]
  },
  {
   "cell_type": "code",
   "execution_count": 27,
   "id": "174b76b2",
   "metadata": {},
   "outputs": [],
   "source": [
    "def create_density_plots(dist_data, out_file, stimulated,marker,title_suffix=\"\"):\n",
    "    sns.set_theme(style=\"whitegrid\")\n",
    "    pts_sorted = sorted(dist_data.keys())\n",
    "\n",
    "    num_plots = len(pts_sorted)\n",
    "    cols = min(3, num_plots)\n",
    "    rows = int(np.ceil(num_plots / cols))\n",
    "\n",
    "    fig_width = max(5 * cols, 8)\n",
    "    fig_height = 5 * rows\n",
    "    fig, axes = plt.subplots(\n",
    "        rows, cols, figsize=(fig_width, fig_height), constrained_layout=True\n",
    "    )\n",
    "\n",
    "    fig.suptitle(f\"Correction on surge/perio for cMCs, LPS and {marker}\", fontsize=16)\n",
    "\n",
    "    if num_plots == 1:\n",
    "        axes = np.array([axes])\n",
    "    if stimulated:\n",
    "        cat_labels = [\"Stim corr surge\", \"Stim corr perio\", \"Stim uncorr surge\", \"Stim uncorr perio\"]\n",
    "    else:\n",
    "        cat_labels = [\"Unstim corr surge\", \"Unstim corr perio\", \"Unstim uncorr surge\", \"Unstim uncorr perio\"]\n",
    "    cat_colors = [\"blue\", \"red\", \"green\", \"orange\", \"purple\"]\n",
    "\n",
    "    for i, (pt, ax) in enumerate(zip(pts_sorted, axes.flatten())):\n",
    "        for label, color in zip(cat_labels, cat_colors):\n",
    "            arr = dist_data[pt][label]\n",
    "            if arr.size > 0:\n",
    "                sns.kdeplot(\n",
    "                    arr,\n",
    "                    ax=ax,\n",
    "                    label=f\"{label} (n={arr.size})\",\n",
    "                    color=color,\n",
    "                    fill=False,  # set tot True to fill the area under the curve\n",
    "                    alpha=0.3,\n",
    "                )\n",
    "\n",
    "        ax.set_xlabel(\"Value\", fontsize=12)\n",
    "        ax.set_ylabel(\"Density\", fontsize=12)\n",
    "        ax.legend(fontsize=10)\n",
    "        ax.grid(True)\n",
    "    for j in range(i + 1, len(axes.flatten())):\n",
    "        fig.delaxes(axes.flatten()[j])\n",
    "\n",
    "    plt.savefig(out_file, dpi=200, bbox_inches=\"tight\")\n",
    "    plt.close()\n",
    "\n",
    "\n",
    "def plot_result(corrected_path_surge,original_path_surge,corrected_path_perio,marker,original_path_perio,output_path_stim,output_path_unstim,doms_stim):\n",
    "    corr_surge = ad.read(corrected_path_surge)\n",
    "    corr_surge = corr_surge[:, correspondence[marker]].copy()\n",
    "    stim_corr_surge = pd.Series(\n",
    "        corr_surge[(corr_surge.obs[\"drug\"] == doms_stim)].X.flatten(), name=\"Stim corr surge\"\n",
    "    )\n",
    "    unstim_corr_surge = pd.Series(\n",
    "        corr_surge[corr_surge.obs[\"drug\"] == \"Unstim\"].X.flatten(), name=\"Unstim corr surge\"\n",
    "    )\n",
    "    corr_perio= ad.read(corrected_path_perio)\n",
    "    corr_perio = corr_perio[:, correspondence[marker]].copy()\n",
    "    stim_corr_perio = pd.Series(\n",
    "        corr_perio[(corr_perio.obs[\"drug\"] == 'P. gingivalis')].X.flatten(), name=\"Stim corr perio\"\n",
    "    )\n",
    "    unstim_corr_perio = pd.Series(\n",
    "        corr_perio[corr_perio.obs[\"drug\"] == \"Unstim\"].X.flatten(), name=\"Unstim corr perio\"\n",
    "    )\n",
    "    \n",
    "    uncorr_surge = ad.read(original_path_surge)\n",
    "    uncorr_surge = uncorr_surge[:, correspondence[marker]].copy()\n",
    "    stim_uncorr_surge = pd.Series(\n",
    "        uncorr_surge[(uncorr_surge.obs[\"drug\"] == doms_stim)].X.flatten(), name=\"Stim uncorr surge\"\n",
    "    )\n",
    "    unstim_uncorr_surge = pd.Series(\n",
    "        uncorr_surge[uncorr_surge.obs[\"drug\"] == \"Unstim\"].X.flatten(), name=\"Unstim uncorr surge\"\n",
    "    )\n",
    "    uncorr_perio= ad.read(original_path_perio)\n",
    "    uncorr_perio = uncorr_perio[:, marker].copy()\n",
    "    stim_uncorr_perio = pd.Series(\n",
    "        uncorr_perio[(uncorr_perio.obs[\"drug\"] == 'P. gingivalis')].X.flatten(), name=\"Stim uncorr perio\"\n",
    "    )\n",
    "    unstim_uncorr_perio = pd.Series(\n",
    "        uncorr_perio[uncorr_perio.obs[\"drug\"] == \"Unstim\"].X.flatten(), name=\"Unstim uncorr perio\"\n",
    "    )\n",
    "    dist_data_stim = {\n",
    "        \"Patient_1\": {\n",
    "            \"Stim corr surge\": stim_corr_surge.values,\n",
    "            \"Stim corr perio\": stim_corr_perio.values,\n",
    "            'Stim uncorr surge': stim_uncorr_surge.values,\n",
    "            'Stim uncorr perio': stim_uncorr_perio.values\n",
    "        }\n",
    "    }\n",
    "    dist_data_unstim = {\n",
    "        \"Patient_1\": {\n",
    "            \"Unstim corr surge\": unstim_corr_surge.values,\n",
    "            \"Unstim corr perio\": unstim_corr_perio.values,\n",
    "            'Unstim uncorr surge': unstim_uncorr_surge.values,\n",
    "            'Unstim uncorr perio': unstim_uncorr_perio.values\n",
    "        }\n",
    "    }\n",
    "    stimulated=True\n",
    "    unstimulated=False\n",
    "    create_density_plots(dist_data_stim, output_path_stim, stimulated,marker,title_suffix=\"\")\n",
    "    create_density_plots(dist_data_unstim, output_path_unstim, unstimulated,marker,title_suffix=\"\")\n",
    "    return"
   ]
  },
  {
   "cell_type": "code",
   "execution_count": 30,
   "id": "5778209a",
   "metadata": {},
   "outputs": [
    {
     "name": "stderr",
     "output_type": "stream",
     "text": [
      "Observation names are not unique. To make them unique, call `.obs_names_make_unique`.\n",
      "Observation names are not unique. To make them unique, call `.obs_names_make_unique`.\n",
      "Observation names are not unique. To make them unique, call `.obs_names_make_unique`.\n",
      "Observation names are not unique. To make them unique, call `.obs_names_make_unique`.\n",
      "Observation names are not unique. To make them unique, call `.obs_names_make_unique`.\n",
      "Observation names are not unique. To make them unique, call `.obs_names_make_unique`.\n",
      "Observation names are not unique. To make them unique, call `.obs_names_make_unique`.\n",
      "Observation names are not unique. To make them unique, call `.obs_names_make_unique`.\n",
      "Observation names are not unique. To make them unique, call `.obs_names_make_unique`.\n",
      "Observation names are not unique. To make them unique, call `.obs_names_make_unique`.\n"
     ]
    },
    {
     "name": "stdout",
     "output_type": "stream",
     "text": [
      "Plot 149Sm_CREB for B-Cells_(CD19+CD3-) and LPS\n"
     ]
    },
    {
     "name": "stderr",
     "output_type": "stream",
     "text": [
      "Observation names are not unique. To make them unique, call `.obs_names_make_unique`.\n",
      "Observation names are not unique. To make them unique, call `.obs_names_make_unique`.\n",
      "Observation names are not unique. To make them unique, call `.obs_names_make_unique`.\n",
      "Observation names are not unique. To make them unique, call `.obs_names_make_unique`.\n",
      "Observation names are not unique. To make them unique, call `.obs_names_make_unique`.\n",
      "Observation names are not unique. To make them unique, call `.obs_names_make_unique`.\n",
      "Observation names are not unique. To make them unique, call `.obs_names_make_unique`.\n",
      "Observation names are not unique. To make them unique, call `.obs_names_make_unique`.\n"
     ]
    },
    {
     "name": "stdout",
     "output_type": "stream",
     "text": [
      "Plot 167Er_ERK for B-Cells_(CD19+CD3-) and LPS\n"
     ]
    },
    {
     "name": "stderr",
     "output_type": "stream",
     "text": [
      "Observation names are not unique. To make them unique, call `.obs_names_make_unique`.\n",
      "Observation names are not unique. To make them unique, call `.obs_names_make_unique`.\n",
      "Observation names are not unique. To make them unique, call `.obs_names_make_unique`.\n",
      "Observation names are not unique. To make them unique, call `.obs_names_make_unique`.\n",
      "Observation names are not unique. To make them unique, call `.obs_names_make_unique`.\n",
      "Observation names are not unique. To make them unique, call `.obs_names_make_unique`.\n",
      "Observation names are not unique. To make them unique, call `.obs_names_make_unique`.\n",
      "Observation names are not unique. To make them unique, call `.obs_names_make_unique`.\n"
     ]
    },
    {
     "name": "stdout",
     "output_type": "stream",
     "text": [
      "Plot 164Dy_IkB for B-Cells_(CD19+CD3-) and LPS\n"
     ]
    },
    {
     "name": "stderr",
     "output_type": "stream",
     "text": [
      "Observation names are not unique. To make them unique, call `.obs_names_make_unique`.\n",
      "Observation names are not unique. To make them unique, call `.obs_names_make_unique`.\n",
      "Observation names are not unique. To make them unique, call `.obs_names_make_unique`.\n",
      "Observation names are not unique. To make them unique, call `.obs_names_make_unique`.\n",
      "Observation names are not unique. To make them unique, call `.obs_names_make_unique`.\n",
      "Observation names are not unique. To make them unique, call `.obs_names_make_unique`.\n",
      "Observation names are not unique. To make them unique, call `.obs_names_make_unique`.\n",
      "Observation names are not unique. To make them unique, call `.obs_names_make_unique`.\n"
     ]
    },
    {
     "name": "stdout",
     "output_type": "stream",
     "text": [
      "Plot 159Tb_MAPKAPK2 for B-Cells_(CD19+CD3-) and LPS\n"
     ]
    },
    {
     "name": "stderr",
     "output_type": "stream",
     "text": [
      "Observation names are not unique. To make them unique, call `.obs_names_make_unique`.\n",
      "Observation names are not unique. To make them unique, call `.obs_names_make_unique`.\n",
      "Observation names are not unique. To make them unique, call `.obs_names_make_unique`.\n",
      "Observation names are not unique. To make them unique, call `.obs_names_make_unique`.\n",
      "Observation names are not unique. To make them unique, call `.obs_names_make_unique`.\n",
      "Observation names are not unique. To make them unique, call `.obs_names_make_unique`.\n",
      "Observation names are not unique. To make them unique, call `.obs_names_make_unique`.\n",
      "Observation names are not unique. To make them unique, call `.obs_names_make_unique`.\n"
     ]
    },
    {
     "name": "stdout",
     "output_type": "stream",
     "text": [
      "Plot 166Er_NFkB for B-Cells_(CD19+CD3-) and LPS\n"
     ]
    },
    {
     "name": "stderr",
     "output_type": "stream",
     "text": [
      "Observation names are not unique. To make them unique, call `.obs_names_make_unique`.\n",
      "Observation names are not unique. To make them unique, call `.obs_names_make_unique`.\n",
      "Observation names are not unique. To make them unique, call `.obs_names_make_unique`.\n",
      "Observation names are not unique. To make them unique, call `.obs_names_make_unique`.\n",
      "Observation names are not unique. To make them unique, call `.obs_names_make_unique`.\n",
      "Observation names are not unique. To make them unique, call `.obs_names_make_unique`.\n",
      "Observation names are not unique. To make them unique, call `.obs_names_make_unique`.\n",
      "Observation names are not unique. To make them unique, call `.obs_names_make_unique`.\n"
     ]
    },
    {
     "name": "stdout",
     "output_type": "stream",
     "text": [
      "Plot 151Eu_p38 for B-Cells_(CD19+CD3-) and LPS\n"
     ]
    },
    {
     "name": "stderr",
     "output_type": "stream",
     "text": [
      "Observation names are not unique. To make them unique, call `.obs_names_make_unique`.\n",
      "Observation names are not unique. To make them unique, call `.obs_names_make_unique`.\n",
      "Observation names are not unique. To make them unique, call `.obs_names_make_unique`.\n",
      "Observation names are not unique. To make them unique, call `.obs_names_make_unique`.\n",
      "Observation names are not unique. To make them unique, call `.obs_names_make_unique`.\n",
      "Observation names are not unique. To make them unique, call `.obs_names_make_unique`.\n",
      "Observation names are not unique. To make them unique, call `.obs_names_make_unique`.\n",
      "Observation names are not unique. To make them unique, call `.obs_names_make_unique`.\n"
     ]
    },
    {
     "name": "stdout",
     "output_type": "stream",
     "text": [
      "Plot 155Gd_S6 for B-Cells_(CD19+CD3-) and LPS\n"
     ]
    },
    {
     "name": "stderr",
     "output_type": "stream",
     "text": [
      "Observation names are not unique. To make them unique, call `.obs_names_make_unique`.\n",
      "Observation names are not unique. To make them unique, call `.obs_names_make_unique`.\n",
      "Observation names are not unique. To make them unique, call `.obs_names_make_unique`.\n",
      "Observation names are not unique. To make them unique, call `.obs_names_make_unique`.\n",
      "Observation names are not unique. To make them unique, call `.obs_names_make_unique`.\n",
      "Observation names are not unique. To make them unique, call `.obs_names_make_unique`.\n",
      "Observation names are not unique. To make them unique, call `.obs_names_make_unique`.\n",
      "Observation names are not unique. To make them unique, call `.obs_names_make_unique`.\n"
     ]
    },
    {
     "name": "stdout",
     "output_type": "stream",
     "text": [
      "Plot 153Eu_STAT1 for B-Cells_(CD19+CD3-) and LPS\n"
     ]
    },
    {
     "name": "stderr",
     "output_type": "stream",
     "text": [
      "Observation names are not unique. To make them unique, call `.obs_names_make_unique`.\n",
      "Observation names are not unique. To make them unique, call `.obs_names_make_unique`.\n",
      "Observation names are not unique. To make them unique, call `.obs_names_make_unique`.\n",
      "Observation names are not unique. To make them unique, call `.obs_names_make_unique`.\n",
      "Observation names are not unique. To make them unique, call `.obs_names_make_unique`.\n",
      "Observation names are not unique. To make them unique, call `.obs_names_make_unique`.\n",
      "Observation names are not unique. To make them unique, call `.obs_names_make_unique`.\n",
      "Observation names are not unique. To make them unique, call `.obs_names_make_unique`.\n"
     ]
    },
    {
     "name": "stdout",
     "output_type": "stream",
     "text": [
      "Plot 154Sm_STAT3 for B-Cells_(CD19+CD3-) and LPS\n"
     ]
    },
    {
     "name": "stderr",
     "output_type": "stream",
     "text": [
      "Observation names are not unique. To make them unique, call `.obs_names_make_unique`.\n",
      "Observation names are not unique. To make them unique, call `.obs_names_make_unique`.\n",
      "Observation names are not unique. To make them unique, call `.obs_names_make_unique`.\n",
      "Observation names are not unique. To make them unique, call `.obs_names_make_unique`.\n",
      "Observation names are not unique. To make them unique, call `.obs_names_make_unique`.\n",
      "Observation names are not unique. To make them unique, call `.obs_names_make_unique`.\n",
      "Observation names are not unique. To make them unique, call `.obs_names_make_unique`.\n",
      "Observation names are not unique. To make them unique, call `.obs_names_make_unique`.\n"
     ]
    },
    {
     "name": "stdout",
     "output_type": "stream",
     "text": [
      "Plot 150Nd_STAT5 for B-Cells_(CD19+CD3-) and LPS\n"
     ]
    },
    {
     "name": "stderr",
     "output_type": "stream",
     "text": [
      "Observation names are not unique. To make them unique, call `.obs_names_make_unique`.\n",
      "Observation names are not unique. To make them unique, call `.obs_names_make_unique`.\n",
      "Observation names are not unique. To make them unique, call `.obs_names_make_unique`.\n",
      "Observation names are not unique. To make them unique, call `.obs_names_make_unique`.\n",
      "Observation names are not unique. To make them unique, call `.obs_names_make_unique`.\n",
      "Observation names are not unique. To make them unique, call `.obs_names_make_unique`.\n",
      "Observation names are not unique. To make them unique, call `.obs_names_make_unique`.\n",
      "Observation names are not unique. To make them unique, call `.obs_names_make_unique`.\n"
     ]
    },
    {
     "name": "stdout",
     "output_type": "stream",
     "text": [
      "Plot 168Er_pSTAT6 for B-Cells_(CD19+CD3-) and LPS\n"
     ]
    },
    {
     "name": "stderr",
     "output_type": "stream",
     "text": [
      "Observation names are not unique. To make them unique, call `.obs_names_make_unique`.\n",
      "Observation names are not unique. To make them unique, call `.obs_names_make_unique`.\n",
      "Observation names are not unique. To make them unique, call `.obs_names_make_unique`.\n",
      "Observation names are not unique. To make them unique, call `.obs_names_make_unique`.\n",
      "Observation names are not unique. To make them unique, call `.obs_names_make_unique`.\n",
      "Observation names are not unique. To make them unique, call `.obs_names_make_unique`.\n",
      "Observation names are not unique. To make them unique, call `.obs_names_make_unique`.\n",
      "Observation names are not unique. To make them unique, call `.obs_names_make_unique`.\n"
     ]
    },
    {
     "name": "stdout",
     "output_type": "stream",
     "text": [
      "Plot 174Yb_HLADR for B-Cells_(CD19+CD3-) and LPS\n"
     ]
    },
    {
     "name": "stderr",
     "output_type": "stream",
     "text": [
      "Observation names are not unique. To make them unique, call `.obs_names_make_unique`.\n",
      "Observation names are not unique. To make them unique, call `.obs_names_make_unique`.\n",
      "Observation names are not unique. To make them unique, call `.obs_names_make_unique`.\n",
      "Observation names are not unique. To make them unique, call `.obs_names_make_unique`.\n",
      "Observation names are not unique. To make them unique, call `.obs_names_make_unique`.\n",
      "Observation names are not unique. To make them unique, call `.obs_names_make_unique`.\n"
     ]
    },
    {
     "name": "stdout",
     "output_type": "stream",
     "text": [
      "Plot 169Tm_CD25 for B-Cells_(CD19+CD3-) and LPS\n"
     ]
    }
   ],
   "source": [
    "marker_list=correspondence.keys()\n",
    "perio_stim_list_=['TNFa','P._gingivalis']\n",
    "perio_cell_list_=['Granulocytes_(CD45-CD66+)','B-Cells_(CD19+CD3-)','Classical_Monocytes_(CD14+CD16-)','MDSCs_(lin-CD11b-CD14+HLADRlo)','mDCs_(CD11c+HLADR+)','pDCs(CD123+HLADR+)','Intermediate_Monocytes_(CD14+CD16+)','Non-classical_Monocytes_(CD14-CD16+)','CD56+CD16-_NK_Cells','CD56loCD16+NK_Cells','NK_Cells_(CD7+)','CD4_T-Cells','Tregs_(CD25+FoxP3+)','CD8_T-Cells','CD8-CD4-_T-Cells']\n",
    "cell_type='B-Cells_(CD19+CD3-)'\n",
    "stim='P._gingivalis'\n",
    "if [stim, cell_type] not in [['P._gingivalis', 'Non-classical_Monocytes_(CD14-CD16+)'],['P._gingivalis', 'NK_Cells_(CD7+)'],['TNFa', 'Granulocytes_(CD45-CD66+)']]:\n",
    "    for marker in marker_list:\n",
    "        if stim=='P._gingivalis':\n",
    "            doms_stim='LPS'\n",
    "        else:\n",
    "            doms_stim=stim\n",
    "    \n",
    "        corrected_path_surge = f\"surge_on_perio_corrected_simple/surge_concatenated_LPS_Classical Monocytes (CD14+CD16-).h5ad\"\n",
    "        original_path_surge=\"surge_just_concat_train/surge_concatenated_LPS_Classical Monocytes (CD14+CD16-).h5ad\"\n",
    "        corrected_path_perio = 'perio_on_surge_corrected_simple/perio_data_sherlock_P. gingivalis_Classical Monocytes (CD14+CD16-).h5ad'\n",
    "        original_path_perio='perio_just_concat/perio_data_sherlock_P. gingivalis_Classical Monocytes (CD14+CD16-).h5ad'\n",
    "        output_path_stim = f\"plot_simple_correction_on_unstim_unstim/{doms_stim}_{cell_type}_{marker}_surge.png\"\n",
    "        output_path_unstim = f\"plot_simple_correction_on_unstim_stim/{doms_stim}_{cell_type}_{marker}_surge.png\"\n",
    "        \n",
    "        plot_result(corrected_path_surge,original_path_surge,corrected_path_perio,marker,original_path_perio,output_path_stim,output_path_unstim,doms_stim)\n",
    "        print(f\"Plot {marker} for {cell_type} and {doms_stim}\")"
   ]
  }
 ],
 "metadata": {
  "kernelspec": {
   "display_name": "create_data_cellot",
   "language": "python",
   "name": "python3"
  },
  "language_info": {
   "codemirror_mode": {
    "name": "ipython",
    "version": 3
   },
   "file_extension": ".py",
   "mimetype": "text/x-python",
   "name": "python",
   "nbconvert_exporter": "python",
   "pygments_lexer": "ipython3",
   "version": "3.9.19"
  }
 },
 "nbformat": 4,
 "nbformat_minor": 5
}
