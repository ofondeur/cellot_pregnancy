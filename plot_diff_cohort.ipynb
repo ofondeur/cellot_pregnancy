{
 "cells": [
  {
   "cell_type": "code",
   "execution_count": 1,
   "id": "0706685a",
   "metadata": {},
   "outputs": [],
   "source": [
    "import os\n",
    "import anndata as ad\n",
    "import pandas as pd\n",
    "import numpy as np\n",
    "import matplotlib.pyplot as plt\n",
    "import seaborn as sns"
   ]
  },
  {
   "cell_type": "code",
   "execution_count": 4,
   "id": "3de60ef2",
   "metadata": {},
   "outputs": [],
   "source": [
    "correspondence = {}\n",
    "correspondence['149Sm_CREB'] ='149Sm_pCREB'\n",
    "correspondence['167Er_ERK'] ='167Er_pERK12'\n",
    "correspondence['164Dy_IkB'] ='164Dy_IkB'\n",
    "correspondence['159Tb_MAPKAPK2'] ='159Tb_pMAPKAPK2'\n",
    "correspondence['166Er_NFkB'] ='166Er_pNFkB'\n",
    "correspondence['151Eu_p38'] ='151Eu_pp38'\n",
    "correspondence['155Gd_S6'] ='155Gd_pS6'\n",
    "correspondence['153Eu_STAT1'] ='153Eu_pSTAT1'\n",
    "correspondence['154Sm_STAT3'] ='154Sm_pSTAT3'\n",
    "correspondence['150Nd_STAT5'] ='150Nd_pSTAT5'\n",
    "correspondence['168Er_pSTAT6'] ='168Yb_pSTAT6'\n",
    "correspondence['174Yb_HLADR'] ='174Yb_HLADR'\n",
    "correspondence['169Tm_CD25'] ='169Tm_CD25'"
   ]
  },
  {
   "cell_type": "code",
   "execution_count": 58,
   "id": "3ebb7832",
   "metadata": {},
   "outputs": [],
   "source": [
    "def create_density_plots(dist_data, out_file, title_suffix=\"\"):\n",
    "    sns.set_theme(style=\"whitegrid\")\n",
    "    pts_sorted = sorted(dist_data.keys())\n",
    "\n",
    "    num_plots = len(pts_sorted)\n",
    "    cols = min(3, num_plots)\n",
    "    rows = int(np.ceil(num_plots / cols))\n",
    "\n",
    "    fig_width = max(5 * cols, 8)\n",
    "    fig_height = 5 * rows\n",
    "    fig, axes = plt.subplots(\n",
    "        rows, cols, figsize=(fig_width, fig_height), constrained_layout=True\n",
    "    )\n",
    "\n",
    "    fig.suptitle(f\"Density Plots {title_suffix}\", fontsize=16)\n",
    "\n",
    "    if num_plots == 1:\n",
    "        axes = np.array([axes])\n",
    "\n",
    "    cat_labels = [\"Unstim perio\", 'Unstim surge',\"Unstim log perio\",\"Unstim log surge\"]\n",
    "    cat_colors = [\"blue\", \"red\", \"green\", \"black\", \"orange\", \"purple\"]\n",
    "\n",
    "    for i, (pt, ax) in enumerate(zip(pts_sorted, axes.flatten())):\n",
    "        for label, color in zip(cat_labels, cat_colors):\n",
    "            arr = dist_data[pt][label]\n",
    "            if arr.size > 0:\n",
    "                sns.kdeplot(\n",
    "                    arr,\n",
    "                    ax=ax,\n",
    "                    label=f\"{label} (n={arr.size})\",\n",
    "                    color=color,\n",
    "                    fill=False,  # set tot True to fill the area under the curve\n",
    "                    alpha=0.3,\n",
    "                )\n",
    "\n",
    "        ax.set_title(f\"Perio vs surge:\", fontsize=14)\n",
    "        ax.set_xlabel(\"Value\", fontsize=12)\n",
    "        ax.set_ylabel(\"Density\", fontsize=12)\n",
    "        ax.legend(fontsize=10)\n",
    "        ax.grid(True)\n",
    "    for j in range(i + 1, len(axes.flatten())):\n",
    "        fig.delaxes(axes.flatten()[j])\n",
    "\n",
    "    plt.savefig(out_file, dpi=200, bbox_inches=\"tight\")\n",
    "    plt.close()\n",
    "\n",
    "\n",
    "def plot_result(path_cohort_1, path_cohort_2, marker, outdir_path,doms_stim):\n",
    "    cohort1 = ad.read(path_cohort_1)\n",
    "    cohort1 = cohort1[:, marker].copy()\n",
    "    if doms_stim == 'LPS':\n",
    "        stim_perio='P. gingivalis'\n",
    "    unstim1 = pd.Series(\n",
    "        cohort1[cohort1.obs[\"drug\"] == \"Unstim\"].X.flatten(), name=\"Unstim perio\"\n",
    "    )\n",
    "    stim1 = pd.Series(\n",
    "        cohort1[cohort1.obs[\"drug\"] ==stim_perio].X.flatten(), name=\"Stim True perio\"\n",
    "    )\n",
    "    log1=np.log2p(pd.Series(\n",
    "        cohort1[cohort1.obs[\"drug\"] == \"Unstim\"].X.flatten(), name=\"Unstim log perio\"\n",
    "    ))\n",
    "    \n",
    "    dataf = ad.read(path_cohort_2)\n",
    "    target2 = dataf[:, correspondence[marker]].copy()\n",
    "    unstim2 = pd.Series(\n",
    "        target2[target2.obs[\"drug\"] == \"Unstim\"].X.flatten(), name=\"Unstim surge\"\n",
    "    )\n",
    "    stim2 = pd.Series(\n",
    "        target2[target2.obs[\"drug\"] == doms_stim].X.flatten(), name=\"Stim True surge\"\n",
    "    )\n",
    "    log2=np.log2p(pd.Series(\n",
    "        target2[target2.obs[\"drug\"] == \"Unstim\"].X.flatten(), name=\"Unstim log surge\"\n",
    "    ))\n",
    "    dist_data = {\n",
    "        \"Patient_1\": {\n",
    "            \"Unstim perio\": unstim1.values,\n",
    "            \"Stim True perio\": stim1.values,\n",
    "            'Unstim surge': unstim2.values,\n",
    "            'Stim True surge': stim2.values,\n",
    "            \"Unstim log perio\": log1.values,\n",
    "            \"Unstim log surge\": log2.values,\n",
    "        }\n",
    "    }\n",
    "\n",
    "    create_density_plots(dist_data, outdir_path, title_suffix=\"\")\n",
    "    return"
   ]
  },
  {
   "cell_type": "code",
   "execution_count": 59,
   "id": "0cedaf3d",
   "metadata": {},
   "outputs": [],
   "source": [
    "def plot_result2(path_cohort_1, path_cohort_2, marker, outdir_path, doms_stim):\n",
    "    cohort1 = ad.read(path_cohort_1)\n",
    "    cohort1 = cohort1[:, marker].copy()\n",
    "    if doms_stim == 'LPS':\n",
    "        stim_perio = 'P. gingivalis'\n",
    "\n",
    "    unstim1 = pd.Series(cohort1[cohort1.obs[\"drug\"] == \"Unstim\"].X.flatten(), name=\"Unstim perio\")\n",
    "    stim1 = pd.Series(cohort1[cohort1.obs[\"drug\"] == stim_perio].X.flatten(), name=\"Stim True perio\")\n",
    "\n",
    "    dataf = ad.read(path_cohort_2)\n",
    "    target2 = dataf[:, correspondence[marker]].copy()\n",
    "    unstim2 = pd.Series(target2[target2.obs[\"drug\"] == \"Unstim\"].X.flatten(), name=\"Unstim surge\")\n",
    "    stim2 = pd.Series(target2[target2.obs[\"drug\"] == doms_stim].X.flatten(), name=\"Stim True surge\")\n",
    "\n",
    "    offset = unstim2[unstim2 > 0].quantile(0.05)\n",
    "    scale=10\n",
    "    # Apply log1p after shifting\n",
    "    log1 = np.log1p((unstim1 + offset) * scale)\n",
    "    log2 = np.log1p((unstim2 + offset) * scale)\n",
    "    print(\"Quantiles unstim2:\", np.quantile(unstim2, [0, 0.25, 0.5, 0.75, 1]))\n",
    "    print(offset)\n",
    "    dist_data = {\n",
    "        \"Patient_1\": {\n",
    "            \"Unstim perio\": unstim1.values,\n",
    "            \"Stim True perio\": stim1.values,\n",
    "            \"Unstim surge\": unstim2.values,\n",
    "            \"Stim True surge\": stim2.values,\n",
    "            \"Unstim log perio\": log1,\n",
    "            \"Unstim log surge\": log2,\n",
    "        }\n",
    "    }\n",
    "    create_density_plots(dist_data, outdir_path, title_suffix=\"\")\n",
    "    return\n"
   ]
  },
  {
   "cell_type": "code",
   "execution_count": 60,
   "id": "384501cb",
   "metadata": {},
   "outputs": [
    {
     "name": "stderr",
     "output_type": "stream",
     "text": [
      "Observation names are not unique. To make them unique, call `.obs_names_make_unique`.\n",
      "Observation names are not unique. To make them unique, call `.obs_names_make_unique`.\n",
      "Observation names are not unique. To make them unique, call `.obs_names_make_unique`.\n",
      "Observation names are not unique. To make them unique, call `.obs_names_make_unique`.\n"
     ]
    },
    {
     "name": "stdout",
     "output_type": "stream",
     "text": [
      "Quantiles unstim2: [0.         0.03517235 0.24389052 0.53200577 5.09151506]\n",
      "0.03201842866837979\n"
     ]
    },
    {
     "name": "stderr",
     "output_type": "stream",
     "text": [
      "Observation names are not unique. To make them unique, call `.obs_names_make_unique`.\n",
      "Observation names are not unique. To make them unique, call `.obs_names_make_unique`.\n"
     ]
    },
    {
     "name": "stdout",
     "output_type": "stream",
     "text": [
      "Plot 159Tb_MAPKAPK2 for Classical Monocytes (CD14+CD16-) and LPS\n"
     ]
    },
    {
     "name": "stderr",
     "output_type": "stream",
     "text": [
      "Observation names are not unique. To make them unique, call `.obs_names_make_unique`.\n",
      "Observation names are not unique. To make them unique, call `.obs_names_make_unique`.\n"
     ]
    },
    {
     "name": "stdout",
     "output_type": "stream",
     "text": [
      "Quantiles unstim2: [0.         0.         0.07819439 0.29686595 3.34448886]\n",
      "0.0214058643206954\n"
     ]
    },
    {
     "name": "stderr",
     "output_type": "stream",
     "text": [
      "Observation names are not unique. To make them unique, call `.obs_names_make_unique`.\n",
      "Observation names are not unique. To make them unique, call `.obs_names_make_unique`.\n"
     ]
    },
    {
     "name": "stdout",
     "output_type": "stream",
     "text": [
      "Plot 151Eu_p38 for Classical Monocytes (CD14+CD16-) and LPS\n"
     ]
    },
    {
     "name": "stderr",
     "output_type": "stream",
     "text": [
      "Observation names are not unique. To make them unique, call `.obs_names_make_unique`.\n",
      "Observation names are not unique. To make them unique, call `.obs_names_make_unique`.\n"
     ]
    },
    {
     "name": "stdout",
     "output_type": "stream",
     "text": [
      "Quantiles unstim2: [0.         0.22247922 0.52866298 0.88515298 4.00684834]\n",
      "0.06318165361881256\n",
      "Plot 155Gd_S6 for Classical Monocytes (CD14+CD16-) and LPS\n"
     ]
    }
   ],
   "source": [
    "marker_list=['159Tb_MAPKAPK2', '151Eu_p38','155Gd_S6']\n",
    "perio_stim_list_=['TNFa','P._gingivalis']\n",
    "perio_cell_list_=['Granulocytes_(CD45-CD66+)','B-Cells_(CD19+CD3-)','Classical_Monocytes_(CD14+CD16-)','MDSCs_(lin-CD11b-CD14+HLADRlo)','mDCs_(CD11c+HLADR+)','pDCs(CD123+HLADR+)','Intermediate_Monocytes_(CD14+CD16+)','Non-classical_Monocytes_(CD14-CD16+)','CD56+CD16-_NK_Cells','CD56loCD16+NK_Cells','NK_Cells_(CD7+)','CD4_T-Cells','Tregs_(CD25+FoxP3+)','CD8_T-Cells','CD8-CD4-_T-Cells']\n",
    "cell_type='Classical Monocytes (CD14+CD16-)'\n",
    "stim='P._gingivalis'\n",
    "if [stim, cell_type] not in [['P._gingivalis', 'Non-classical_Monocytes_(CD14-CD16+)'],['P._gingivalis', 'NK_Cells_(CD7+)'],['TNFa', 'Granulocytes_(CD45-CD66+)']]:\n",
    "    for marker in marker_list:\n",
    "        if stim=='P._gingivalis':\n",
    "            doms_stim='LPS'\n",
    "        else:\n",
    "            doms_stim=stim\n",
    "    \n",
    "        path_cohort_2 = f\"surge_just_concat/surge_data_LPS_Classical Monocytes (CD14+CD16-).h5ad\"\n",
    "        path_cohort_1=\"perio_just_concat/perio_data_sherlock_P. gingivalis_Classical Monocytes (CD14+CD16-).h5ad\"\n",
    "        output_path = f\"plot_surge_vs_perio_uncorr/{doms_stim}_{cell_type}_{marker}_surge.png\"\n",
    "        \n",
    "        plot_result2(path_cohort_1, path_cohort_2, marker, output_path,doms_stim)\n",
    "        print(f\"Plot {marker} for {cell_type} and {doms_stim}\")"
   ]
  }
 ],
 "metadata": {
  "kernelspec": {
   "display_name": "create_data_cellot",
   "language": "python",
   "name": "python3"
  },
  "language_info": {
   "codemirror_mode": {
    "name": "ipython",
    "version": 3
   },
   "file_extension": ".py",
   "mimetype": "text/x-python",
   "name": "python",
   "nbconvert_exporter": "python",
   "pygments_lexer": "ipython3",
   "version": "3.9.19"
  }
 },
 "nbformat": 4,
 "nbformat_minor": 5
}
