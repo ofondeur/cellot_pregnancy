{
 "cells": [
  {
   "cell_type": "code",
   "execution_count": 5,
   "metadata": {},
   "outputs": [
    {
     "name": "stderr",
     "output_type": "stream",
     "text": [
      "Observation names are not unique. To make them unique, call `.obs_names_make_unique`.\n"
     ]
    }
   ],
   "source": [
    "from sklearn.metrics.pairwise import rbf_kernel\n",
    "import numpy as np\n",
    "import anndata as ad\n",
    "perio=ad.read('pred_perio_corrected_dbl (3).h5ad')\n",
    "target=perio[(perio.obs['state']=='true_corrected')&(perio.obs['drug']=='P. gingivalis')].X\n",
    "transport=perio[perio.obs['state']=='predicted'].X\n",
    "def mmd_distance(x, y, gamma):\n",
    "    xx = rbf_kernel(x, x, gamma)\n",
    "    xy = rbf_kernel(x, y, gamma)\n",
    "    yy = rbf_kernel(y, y, gamma)\n",
    "\n",
    "    return xx.mean() + yy.mean() - 2 * xy.mean()\n",
    "\n",
    "\n",
    "def compute_scalar_mmd(target, transport, gammas=None):\n",
    "    if gammas is None:\n",
    "        gammas = [2, 1, 0.5, 0.1, 0.01, 0.005]\n",
    "\n",
    "    def safe_mmd(*args):\n",
    "        try:\n",
    "            mmd = mmd_distance(*args)\n",
    "        except ValueError:\n",
    "            mmd = np.nan\n",
    "        return mmd\n",
    "\n",
    "    return np.mean(list(map(lambda x: safe_mmd(target, transport, x), gammas)))\n"
   ]
  },
  {
   "cell_type": "code",
   "execution_count": null,
   "metadata": {},
   "outputs": [],
   "source": [
    "compute_scalar_mmd(target, transport, gammas=None)"
   ]
  },
  {
   "cell_type": "code",
   "execution_count": 1,
   "metadata": {},
   "outputs": [
    {
     "name": "stdout",
     "output_type": "stream",
     "text": [
      "Config generated: ./yaml/perio_just_concat/perio_data_sherlock_TNFa_Granulocytes_(CD45-CD66+)_train.yaml\n",
      "Config generated: ./yaml/perio_just_concat/perio_data_sherlock_TNFa_B-Cells_(CD19+CD3-)_train.yaml\n",
      "Config generated: ./yaml/perio_just_concat/perio_data_sherlock_TNFa_Classical_Monocytes_(CD14+CD16-)_train.yaml\n",
      "Config generated: ./yaml/perio_just_concat/perio_data_sherlock_TNFa_MDSCs_(lin-CD11b-CD14+HLADRlo)_train.yaml\n",
      "Config generated: ./yaml/perio_just_concat/perio_data_sherlock_TNFa_mDCs_(CD11c+HLADR+)_train.yaml\n",
      "Config generated: ./yaml/perio_just_concat/perio_data_sherlock_TNFa_pDCs(CD123+HLADR+)_train.yaml\n",
      "Config generated: ./yaml/perio_just_concat/perio_data_sherlock_TNFa_Intermediate_Monocytes_(CD14+CD16+)_train.yaml\n",
      "Config generated: ./yaml/perio_just_concat/perio_data_sherlock_TNFa_Non-classical_Monocytes_(CD14-CD16+)_train.yaml\n",
      "Config generated: ./yaml/perio_just_concat/perio_data_sherlock_TNFa_CD56+CD16-_NK_Cells_train.yaml\n",
      "Config generated: ./yaml/perio_just_concat/perio_data_sherlock_TNFa_CD56loCD16+NK_Cells_train.yaml\n",
      "Config generated: ./yaml/perio_just_concat/perio_data_sherlock_TNFa_NK_Cells_(CD7+)_train.yaml\n",
      "Config generated: ./yaml/perio_just_concat/perio_data_sherlock_TNFa_CD4_T-Cells_train.yaml\n",
      "Config generated: ./yaml/perio_just_concat/perio_data_sherlock_TNFa_Tregs_(CD25+FoxP3+)_train.yaml\n",
      "Config generated: ./yaml/perio_just_concat/perio_data_sherlock_TNFa_CD8_T-Cells_train.yaml\n",
      "Config generated: ./yaml/perio_just_concat/perio_data_sherlock_TNFa_CD8-CD4-_T-Cells_train.yaml\n",
      "Config generated: ./yaml/perio_just_concat/perio_data_sherlock_P._gingivalis_Granulocytes_(CD45-CD66+)_train.yaml\n",
      "Config generated: ./yaml/perio_just_concat/perio_data_sherlock_P._gingivalis_B-Cells_(CD19+CD3-)_train.yaml\n",
      "Config generated: ./yaml/perio_just_concat/perio_data_sherlock_P._gingivalis_Classical_Monocytes_(CD14+CD16-)_train.yaml\n",
      "Config generated: ./yaml/perio_just_concat/perio_data_sherlock_P._gingivalis_MDSCs_(lin-CD11b-CD14+HLADRlo)_train.yaml\n",
      "Config generated: ./yaml/perio_just_concat/perio_data_sherlock_P._gingivalis_mDCs_(CD11c+HLADR+)_train.yaml\n",
      "Config generated: ./yaml/perio_just_concat/perio_data_sherlock_P._gingivalis_pDCs(CD123+HLADR+)_train.yaml\n",
      "Config generated: ./yaml/perio_just_concat/perio_data_sherlock_P._gingivalis_Intermediate_Monocytes_(CD14+CD16+)_train.yaml\n",
      "Config generated: ./yaml/perio_just_concat/perio_data_sherlock_P._gingivalis_Non-classical_Monocytes_(CD14-CD16+)_train.yaml\n",
      "Config generated: ./yaml/perio_just_concat/perio_data_sherlock_P._gingivalis_CD56+CD16-_NK_Cells_train.yaml\n",
      "Config generated: ./yaml/perio_just_concat/perio_data_sherlock_P._gingivalis_CD56loCD16+NK_Cells_train.yaml\n",
      "Config generated: ./yaml/perio_just_concat/perio_data_sherlock_P._gingivalis_NK_Cells_(CD7+)_train.yaml\n",
      "Config generated: ./yaml/perio_just_concat/perio_data_sherlock_P._gingivalis_CD4_T-Cells_train.yaml\n",
      "Config generated: ./yaml/perio_just_concat/perio_data_sherlock_P._gingivalis_Tregs_(CD25+FoxP3+)_train.yaml\n",
      "Config generated: ./yaml/perio_just_concat/perio_data_sherlock_P._gingivalis_CD8_T-Cells_train.yaml\n",
      "Config generated: ./yaml/perio_just_concat/perio_data_sherlock_P._gingivalis_CD8-CD4-_T-Cells_train.yaml\n"
     ]
    }
   ],
   "source": [
    "import os\n",
    "\n",
    "# Définition des listes de stimulations et de types cellulaires\n",
    "perio_stim_list = ['TNFa', 'P._gingivalis']\n",
    "perio_cell_list = [\n",
    "    'Granulocytes (CD45-CD66+)', 'B-Cells (CD19+CD3-)', 'Classical Monocytes (CD14+CD16-)',\n",
    "    'MDSCs (lin-CD11b-CD14+HLADRlo)', 'mDCs (CD11c+HLADR+)', 'pDCs(CD123+HLADR+)',\n",
    "    'Intermediate Monocytes (CD14+CD16+)', 'Non-classical Monocytes (CD14-CD16+)',\n",
    "    'CD56+CD16- NK Cells', 'CD56loCD16+NK Cells', 'NK Cells (CD7+)',\n",
    "    'CD4 T-Cells', 'Tregs (CD25+FoxP3+)', 'CD8 T-Cells', 'CD8-CD4- T-Cells'\n",
    "]\n",
    "\n",
    "# Création du dossier de sortie\n",
    "config_dir = \"./yaml/perio_just_concat\"\n",
    "os.makedirs(config_dir, exist_ok=True)\n",
    "\n",
    "# Modèle de configuration YAML\n",
    "template_yaml = \"\"\"data:\n",
    "  features: ./datasets/perio_just_concat/features.txt\n",
    "  path: {data_path}\n",
    "  condition: drug\n",
    "  source: Unstim\n",
    "  type: cell\n",
    "\n",
    "dataloader:\n",
    "  batch_size: 256\n",
    "  shuffle: true\n",
    "\n",
    "datasplit:\n",
    "  groupby: drug\n",
    "  name: train_test\n",
    "  test_size: 0.2\n",
    "\"\"\"\n",
    "\n",
    "# Générer les fichiers de configuration\n",
    "for stim in perio_stim_list:\n",
    "    for cell in perio_cell_list:\n",
    "        data_path = f\"./datasets/perio_just_concat/perio_data_sherlock_{stim}_{cell.replace(' ', '_')}.h5ad\"\n",
    "        config_content = template_yaml.format(data_path=data_path)\n",
    "\n",
    "        config_filename = f\"perio_data_sherlock_{stim}_{cell.replace(' ', '_')}_train.yaml\"\n",
    "        config_filepath = os.path.join(config_dir, config_filename)\n",
    "\n",
    "        with open(config_filepath, \"w\") as f:\n",
    "            f.write(config_content)\n",
    "\n",
    "        print(f\"Config generated: {config_filepath}\")\n"
   ]
  }
 ],
 "metadata": {
  "kernelspec": {
   "display_name": "combat_batch",
   "language": "python",
   "name": "python3"
  },
  "language_info": {
   "codemirror_mode": {
    "name": "ipython",
    "version": 3
   },
   "file_extension": ".py",
   "mimetype": "text/x-python",
   "name": "python",
   "nbconvert_exporter": "python",
   "pygments_lexer": "ipython3",
   "version": "3.9.19"
  }
 },
 "nbformat": 4,
 "nbformat_minor": 2
}
